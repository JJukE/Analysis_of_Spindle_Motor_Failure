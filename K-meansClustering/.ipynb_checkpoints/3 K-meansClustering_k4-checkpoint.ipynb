{
 "cells": [
  {
   "cell_type": "code",
   "execution_count": null,
   "metadata": {},
   "outputs": [],
   "source": [
    "import pickle\n",
    "import pandas as pd"
   ]
  },
  {
   "cell_type": "code",
   "execution_count": 5,
   "metadata": {},
   "outputs": [
    {
     "data": {
      "text/html": [
       "<div>\n",
       "<style scoped>\n",
       "    .dataframe tbody tr th:only-of-type {\n",
       "        vertical-align: middle;\n",
       "    }\n",
       "\n",
       "    .dataframe tbody tr th {\n",
       "        vertical-align: top;\n",
       "    }\n",
       "\n",
       "    .dataframe thead th {\n",
       "        text-align: right;\n",
       "    }\n",
       "</style>\n",
       "<table border=\"1\" class=\"dataframe\">\n",
       "  <thead>\n",
       "    <tr style=\"text-align: right;\">\n",
       "      <th></th>\n",
       "      <th>Filtered_freq_list</th>\n",
       "      <th>popCount_freq</th>\n",
       "      <th>popCount_x</th>\n",
       "      <th>popCount_y</th>\n",
       "      <th>popDegree_mean_x</th>\n",
       "      <th>popDegree_mean_y</th>\n",
       "      <th>popDegree_total_mean</th>\n",
       "    </tr>\n",
       "  </thead>\n",
       "  <tbody>\n",
       "    <tr>\n",
       "      <th>0</th>\n",
       "      <td>[3968.7937587517504, 3969.793958791758, 3970.7...</td>\n",
       "      <td>3</td>\n",
       "      <td>3</td>\n",
       "      <td>3</td>\n",
       "      <td>0.002493</td>\n",
       "      <td>0.002519</td>\n",
       "      <td>0.002506</td>\n",
       "    </tr>\n",
       "    <tr>\n",
       "      <th>1</th>\n",
       "      <td>[3969.793958791758, 3970.7941588317663, 3971.7...</td>\n",
       "      <td>3</td>\n",
       "      <td>3</td>\n",
       "      <td>3</td>\n",
       "      <td>0.002427</td>\n",
       "      <td>0.002444</td>\n",
       "      <td>0.002435</td>\n",
       "    </tr>\n",
       "    <tr>\n",
       "      <th>2</th>\n",
       "      <td>[3970.7941588317663, 3971.794358871774, 3972.7...</td>\n",
       "      <td>3</td>\n",
       "      <td>3</td>\n",
       "      <td>3</td>\n",
       "      <td>0.002519</td>\n",
       "      <td>0.002536</td>\n",
       "      <td>0.002528</td>\n",
       "    </tr>\n",
       "    <tr>\n",
       "      <th>3</th>\n",
       "      <td>[3970.7941588317663, 3971.794358871774, 3972.7...</td>\n",
       "      <td>5</td>\n",
       "      <td>5</td>\n",
       "      <td>5</td>\n",
       "      <td>0.002050</td>\n",
       "      <td>0.002058</td>\n",
       "      <td>0.002054</td>\n",
       "    </tr>\n",
       "    <tr>\n",
       "      <th>4</th>\n",
       "      <td>[1.0002000400080016, 2.000400080016003, 3.0006...</td>\n",
       "      <td>28</td>\n",
       "      <td>28</td>\n",
       "      <td>21</td>\n",
       "      <td>0.002241</td>\n",
       "      <td>0.002098</td>\n",
       "      <td>0.002180</td>\n",
       "    </tr>\n",
       "  </tbody>\n",
       "</table>\n",
       "</div>"
      ],
      "text/plain": [
       "                                  Filtered_freq_list  popCount_freq  \\\n",
       "0  [3968.7937587517504, 3969.793958791758, 3970.7...              3   \n",
       "1  [3969.793958791758, 3970.7941588317663, 3971.7...              3   \n",
       "2  [3970.7941588317663, 3971.794358871774, 3972.7...              3   \n",
       "3  [3970.7941588317663, 3971.794358871774, 3972.7...              5   \n",
       "4  [1.0002000400080016, 2.000400080016003, 3.0006...             28   \n",
       "\n",
       "   popCount_x  popCount_y  popDegree_mean_x  popDegree_mean_y  \\\n",
       "0           3           3          0.002493          0.002519   \n",
       "1           3           3          0.002427          0.002444   \n",
       "2           3           3          0.002519          0.002536   \n",
       "3           5           5          0.002050          0.002058   \n",
       "4          28          21          0.002241          0.002098   \n",
       "\n",
       "   popDegree_total_mean  \n",
       "0              0.002506  \n",
       "1              0.002435  \n",
       "2              0.002528  \n",
       "3              0.002054  \n",
       "4              0.002180  "
      ]
     },
     "execution_count": 5,
     "metadata": {},
     "output_type": "execute_result"
    }
   ],
   "source": [
    "# transformed dataframe 불러오기\n",
    "with open('/Users/jjuke/Desktop/Study/BigDataAnalysis/TermProject/SPINDLE DATA/transformed_dataframe.pickle', 'rb') as r:\n",
    "    transformed_data = pickle.load(r)\n",
    "\n",
    "transformed_data.head()"
   ]
  },
  {
   "cell_type": "code",
   "execution_count": 3,
   "metadata": {},
   "outputs": [
    {
     "data": {
      "text/html": [
       "<div>\n",
       "<style scoped>\n",
       "    .dataframe tbody tr th:only-of-type {\n",
       "        vertical-align: middle;\n",
       "    }\n",
       "\n",
       "    .dataframe tbody tr th {\n",
       "        vertical-align: top;\n",
       "    }\n",
       "\n",
       "    .dataframe thead th {\n",
       "        text-align: right;\n",
       "    }\n",
       "</style>\n",
       "<table border=\"1\" class=\"dataframe\">\n",
       "  <thead>\n",
       "    <tr style=\"text-align: right;\">\n",
       "      <th></th>\n",
       "      <th>Filtered_freq_list</th>\n",
       "      <th>popCount_freq</th>\n",
       "      <th>popCount_x</th>\n",
       "      <th>popCount_y</th>\n",
       "      <th>popDegree_mean_x</th>\n",
       "      <th>popDegree_mean_y</th>\n",
       "      <th>popDegree_total_mean</th>\n",
       "    </tr>\n",
       "  </thead>\n",
       "  <tbody>\n",
       "    <tr>\n",
       "      <th>0</th>\n",
       "      <td>[3968.7937587517504, 3969.793958791758, 3970.7...</td>\n",
       "      <td>-4.291769</td>\n",
       "      <td>-4.114624</td>\n",
       "      <td>-3.752816</td>\n",
       "      <td>0.057590</td>\n",
       "      <td>-0.017735</td>\n",
       "      <td>0.050883</td>\n",
       "    </tr>\n",
       "    <tr>\n",
       "      <th>1</th>\n",
       "      <td>[3969.793958791758, 3970.7941588317663, 3971.7...</td>\n",
       "      <td>-4.291769</td>\n",
       "      <td>-4.114624</td>\n",
       "      <td>-3.752816</td>\n",
       "      <td>-0.155662</td>\n",
       "      <td>-0.228152</td>\n",
       "      <td>-0.179486</td>\n",
       "    </tr>\n",
       "    <tr>\n",
       "      <th>2</th>\n",
       "      <td>[3970.7941588317663, 3971.794358871774, 3972.7...</td>\n",
       "      <td>-4.291769</td>\n",
       "      <td>-4.114624</td>\n",
       "      <td>-3.752816</td>\n",
       "      <td>0.141771</td>\n",
       "      <td>0.031307</td>\n",
       "      <td>0.122098</td>\n",
       "    </tr>\n",
       "    <tr>\n",
       "      <th>3</th>\n",
       "      <td>[3970.7941588317663, 3971.794358871774, 3972.7...</td>\n",
       "      <td>-4.078151</td>\n",
       "      <td>-3.851549</td>\n",
       "      <td>-3.437364</td>\n",
       "      <td>-1.365511</td>\n",
       "      <td>-1.316518</td>\n",
       "      <td>-1.425339</td>\n",
       "    </tr>\n",
       "    <tr>\n",
       "      <th>4</th>\n",
       "      <td>[1.0002000400080016, 2.000400080016003, 3.0006...</td>\n",
       "      <td>-1.621547</td>\n",
       "      <td>-0.826193</td>\n",
       "      <td>-0.913746</td>\n",
       "      <td>-0.751061</td>\n",
       "      <td>-1.204531</td>\n",
       "      <td>-1.014634</td>\n",
       "    </tr>\n",
       "  </tbody>\n",
       "</table>\n",
       "</div>"
      ],
      "text/plain": [
       "                                  Filtered_freq_list  popCount_freq  \\\n",
       "0  [3968.7937587517504, 3969.793958791758, 3970.7...      -4.291769   \n",
       "1  [3969.793958791758, 3970.7941588317663, 3971.7...      -4.291769   \n",
       "2  [3970.7941588317663, 3971.794358871774, 3972.7...      -4.291769   \n",
       "3  [3970.7941588317663, 3971.794358871774, 3972.7...      -4.078151   \n",
       "4  [1.0002000400080016, 2.000400080016003, 3.0006...      -1.621547   \n",
       "\n",
       "   popCount_x  popCount_y  popDegree_mean_x  popDegree_mean_y  \\\n",
       "0   -4.114624   -3.752816          0.057590         -0.017735   \n",
       "1   -4.114624   -3.752816         -0.155662         -0.228152   \n",
       "2   -4.114624   -3.752816          0.141771          0.031307   \n",
       "3   -3.851549   -3.437364         -1.365511         -1.316518   \n",
       "4   -0.826193   -0.913746         -0.751061         -1.204531   \n",
       "\n",
       "   popDegree_total_mean  \n",
       "0              0.050883  \n",
       "1             -0.179486  \n",
       "2              0.122098  \n",
       "3             -1.425339  \n",
       "4             -1.014634  "
      ]
     },
     "execution_count": 3,
     "metadata": {},
     "output_type": "execute_result"
    }
   ],
   "source": [
    "normalizedf = transformed_data.drop(['Filtered_freq_list'], axis = 1)\n",
    "normalizedf = (normalizedf - normalizedf.mean())/normalizedf.std()\n",
    "transformed_data = pd.concat([transformed_data['Filtered_freq_list'], normalizedf], axis = 1)\n",
    "transformed_data.head()"
   ]
  },
  {
   "cell_type": "code",
   "execution_count": 4,
   "metadata": {},
   "outputs": [
    {
     "name": "stdout",
     "output_type": "stream",
     "text": [
      "<class 'pandas.core.frame.DataFrame'>\n",
      "RangeIndex: 66524 entries, 0 to 66523\n",
      "Data columns (total 7 columns):\n",
      " #   Column                Non-Null Count  Dtype  \n",
      "---  ------                --------------  -----  \n",
      " 0   Filtered_freq_list    66524 non-null  object \n",
      " 1   popCount_freq         66524 non-null  float64\n",
      " 2   popCount_x            66524 non-null  float64\n",
      " 3   popCount_y            66524 non-null  float64\n",
      " 4   popDegree_mean_x      66524 non-null  float64\n",
      " 5   popDegree_mean_y      66524 non-null  float64\n",
      " 6   popDegree_total_mean  66524 non-null  float64\n",
      "dtypes: float64(6), object(1)\n",
      "memory usage: 3.6+ MB\n"
     ]
    }
   ],
   "source": [
    "transformed_data.info()"
   ]
  },
  {
   "cell_type": "code",
   "execution_count": null,
   "metadata": {},
   "outputs": [],
   "source": [
    "from pyspark.ml.clustering import KMeans\n",
    "from pyspark.ml.evaluation import ClusteringEvaluator\n",
    "from pyspark.sql import SparkSession\n",
    "from pyspark.ml.feature import VectorAssembler\n",
    "\n",
    "spark = SparkSession.builder.getOrCreate() # initialize SparkSession\n",
    "\n",
    "dataset = pd.DataFrame({\"popCount_x\" : transformed_data['popCount_x'],    \n",
    "                        \"popCount_y\" : transformed_data['popCount_y'],\n",
    "                        \"popDegree_mean_x\": transformed_data['popDegree_mean_x'],\n",
    "                        \"popDegree_mean_y\": transformed_data['popDegree_mean_y']}) \n",
    "dataset = spark.createDataFrame(dataset)\n",
    "assembler = VectorAssembler(\n",
    "    inputCols=[\"popCount_x\", \"popCount_y\", \"popDegree_mean_x\", \"popDegree_mean_y\"]\n",
    "    ,outputCol= \"features\"\n",
    ")\n",
    "\n",
    "dataset = assembler.transform(dataset)\n",
    "dataset.show()"
   ]
  },
  {
   "cell_type": "code",
   "execution_count": 7,
   "metadata": {},
   "outputs": [
    {
     "name": "stderr",
     "output_type": "stream",
     "text": [
      "                                                                                \r"
     ]
    },
    {
     "name": "stdout",
     "output_type": "stream",
     "text": [
      "Silhouette with squared euclidean distance = 0.5101542000236237\n",
      "Cluster Centers: \n",
      "[ 0.39149775  0.34095726 -0.30274371 -0.28471205]\n",
      "[-0.78026887 -0.71543765  0.52395208  0.4672952 ]\n",
      "[-4.30891246 -4.06826831 16.59848393 18.53113136]\n",
      "[ 6.77358061 14.78167841 -1.77778984  0.97851852]\n"
     ]
    }
   ],
   "source": [
    "# Trains a k-means model.\n",
    "kmeans = KMeans().setK(4).setSeed(1)\n",
    "model = kmeans.fit(dataset)\n",
    "\n",
    "# Make predictions\n",
    "predictions = model.transform(dataset)\n",
    "\n",
    "# Evaluate clustering by computing Silhouette score\n",
    "evaluator = ClusteringEvaluator()\n",
    "\n",
    "silhouette = evaluator.evaluate(predictions)\n",
    "print(\"Silhouette with squared euclidean distance = \" + str(silhouette))\n",
    "\n",
    "# Shows the result.\n",
    "centers = model.clusterCenters()\n",
    "print(\"Cluster Centers: \")\n",
    "for center in centers:\n",
    "    print(center)\n"
   ]
  },
  {
   "cell_type": "code",
   "execution_count": 8,
   "metadata": {},
   "outputs": [
    {
     "name": "stdout",
     "output_type": "stream",
     "text": [
      "+--------------------+--------------------+--------------------+--------------------+--------------------+----------+\n",
      "|          popCount_x|          popCount_y|    popDegree_mean_x|    popDegree_mean_y|            features|prediction|\n",
      "+--------------------+--------------------+--------------------+--------------------+--------------------+----------+\n",
      "|  -4.114623525333967| -3.7528161093689287| 0.05759018655037388|-0.01773451935388...|[-4.1146235253339...|         1|\n",
      "|  -4.114623525333967| -3.7528161093689287|-0.15566168693928334|-0.22815237976642652|[-4.1146235253339...|         1|\n",
      "|  -4.114623525333967| -3.7528161093689287|  0.1417714637640067|0.031307138182932334|[-4.1146235253339...|         1|\n",
      "| -3.8515490648862016| -3.4373639121418766| -1.3655105619393544| -1.3165175682097823|[-3.8515490648862...|         1|\n",
      "| -0.8261927697368984| -0.9137463343254589| -0.7510609805586907| -1.2045310601031352|[-0.8261927697368...|         0|\n",
      "|   8.512950576158778|  12.019793751983682|  -3.194766306060773| -2.9018872102016537|[8.51295057615877...|         3|\n",
      "|   8.644487806382662|  11.388889357529578| -3.0667498367281127| -2.8675160150003554|[8.64448780638266...|         3|\n",
      "|  1.4099401440691086| -0.5982941370984067| -1.1111147286139478|  0.6634101102696808|[1.40994014406910...|         0|\n",
      "|-0.03696938839360...| 0.03261025735569766|-0.06178022227432...| 0.07984429136491458|[-0.0369693883936...|         0|\n",
      "|  1.4099401440691086|  0.8212407504233282| -1.1182533701291641| -0.4835315167991029|[1.40994014406910...|         0|\n",
      "|  0.3576423022780465|-0.44056803848488063|  -0.362861869360843|   0.618511434048575|[0.35764230227804...|         0|\n",
      "|  0.3576423022780465| 0.34806245458274987| 0.05544630715043488| -0.3144249156637072|[0.35764230227804...|         0|\n",
      "|  0.7522539929496947| 0.19033635596922377| -0.8741078721189849|-0.23981695944048875|[0.75225399294969...|         0|\n",
      "|   0.620716762725812| 0.03261025735569766|-0.22316404268328252|-0.10754787336243929|[0.62071676272581...|         0|\n",
      "|-0.03696938839360...|-0.12511584125782843|-0.12232236561094448| 0.05898339634039075|[-0.0369693883936...|         0|\n",
      "|-0.03696938839360...|   0.505788553196276|-0.01090956889378...|-0.47540525773193687|[-0.0369693883936...|         0|\n",
      "| -0.6946555395130156| 0.03261025735569766|  0.5740838406196905|-0.15621238984615402|[-0.6946555395130...|         1|\n",
      "|-0.03696938839360...|-0.44056803848488063| -0.3854280288556683|  0.2380714243527651|[-0.0369693883936...|         0|\n",
      "| -0.6946555395130156| 0.34806245458274987|  1.1275734981713392|-0.31994056210688476|[-0.6946555395130...|         1|\n",
      "|  0.3576423022780465| 0.19033635596922377| -0.7320087644955957|-0.24100465238012095|[0.35764230227804...|         0|\n",
      "+--------------------+--------------------+--------------------+--------------------+--------------------+----------+\n",
      "only showing top 20 rows\n",
      "\n"
     ]
    }
   ],
   "source": [
    "import matplotlib.pyplot as plt\n",
    "\n",
    "predictions.show()"
   ]
  },
  {
   "cell_type": "code",
   "execution_count": 12,
   "metadata": {},
   "outputs": [
    {
     "name": "stderr",
     "output_type": "stream",
     "text": [
      "/var/folders/mn/n0sm8k5d0tl17f99w2qrtt640000gn/T/ipykernel_4525/2186416261.py:2: MatplotlibDeprecationWarning: Calling gca() with keyword arguments was deprecated in Matplotlib 3.4. Starting two minor releases later, gca() will take no keyword arguments. The gca() function should only be used to get the current axes, or if no axes exist, create new axes with default keyword arguments. To create a new axes with non-default arguments, use plt.axes() or plt.subplot().\n",
      "  ax = fig.gca(projection = '3d')\n",
      "No artists with labels found to put in legend.  Note that artists whose label start with an underscore are ignored when legend() is called with no argument.\n"
     ]
    },
    {
     "name": "stdout",
     "output_type": "stream",
     "text": [
      "[0.3914977502207211, -0.7802688706057762, -4.308912461719698, 6.773580606283391] [0.3409572557288015, -0.7154376450727499, -4.068268306595984, 14.781678414939686] [-0.3027437054546574, 0.5239520833543433, 16.59848392600502, -1.777789837295899]\n"
     ]
    },
    {
     "data": {
      "image/png": "[encoded data removed]",
      "text/plain": [
       "<Figure size 432x288 with 1 Axes>"
      ]
     },
     "metadata": {
      "needs_background": "light"
     },
     "output_type": "display_data"
    }
   ],
   "source": [
    "fig = plt.figure()\n",
    "ax = fig.gca(projection = '3d')\n",
    "predictions_pandas = predictions.toPandas()\n",
    "\n",
    "ax.scatter(predictions_pandas['popCount_x'], predictions_pandas['popCount_y'], (predictions_pandas['popDegree_mean_x']+predictions_pandas['popDegree_mean_y'])/2, c=predictions_pandas['prediction'], alpha = 0.5, zorder = 1)\n",
    "center_x = [row[0] for row in centers]\n",
    "center_y = [row[1] for row in centers]\n",
    "center_mean = [row[2] for row in centers]\n",
    "print(center_x, center_y, center_mean)\n",
    "ax.scatter(center_x, center_y, [0.008,0.008,0.008, 0.008], s=50, marker = \"D\", c='r', zorder = 1000000, alpha = 1)\n",
    "ax.set_xlabel(\"popCount_x\")\n",
    "ax.set_ylabel(\"popCount_y\")\n",
    "ax.set_zlabel(\"pop_mean\")\n",
    "plt.suptitle(\"Clustering Result\")\n",
    "\n",
    "ax.legend()\n",
    "plt.show()\n"
   ]
  },
  {
   "cell_type": "code",
   "execution_count": null,
   "metadata": {},
   "outputs": [
    {
     "data": {
      "text/plain": [
       "(66524, 6)"
      ]
     },
     "execution_count": 28,
     "metadata": {},
     "output_type": "execute_result"
    }
   ],
   "source": [
    "predictions_pandas.shape"
   ]
  },
  {
   "cell_type": "code",
   "execution_count": null,
   "metadata": {},
   "outputs": [],
   "source": [
    "import pandas as pd\n",
    "prediction_list = [[], [], [], []]\n",
    "\n",
    "total_df = pd.concat([transformed_data['popCount_freq'], predictions_pandas['prediction']], axis = 1)\n",
    "total_df = total_df.to_numpy()\n",
    "cnt = 0\n",
    "for index, data in enumerate(total_df):\n",
    "    \n",
    "    if data[1] == 0: prediction_list[0].append((index, data))\n",
    "    if data[1] == 1: prediction_list[1].append((index, data))\n",
    "    if data[1] == 2: prediction_list[2].append((index, data))\n",
    "    if data[1] == 3: prediction_list[3].append((index, data))\n",
    "print(prediction_list[0][0])\n",
    "for i in range(4):\n",
    "    plt.scatter(prediction_list[i][0], prediction_list[i][1][0], c = i, alpha = 0.05)\n",
    "\n",
    "\n",
    "plt.title(\"The correlationship between cluster result and the number of outliar frequency\")\n",
    "plt.xlabel(\"time\")\n",
    "plt.ylabel(\"the Number of Outliar Frequency\")\n",
    "plt.legend(\"cluster 0\", \"cluster 1\", \"cluster 2\", \"cluster 3\")\n",
    "plt.show()\n",
    "\n",
    "\n"
   ]
  },
  {
   "cell_type": "code",
   "execution_count": 11,
   "metadata": {},
   "outputs": [],
   "source": [
    "resultdf = pd.concat([transformed_data, predictions_pandas['prediction']], axis = 1)\n",
    "with open('k_means_normalized_k4.pickle', 'wb') as f:\n",
    "    pickle.dump(resultdf, f)"
   ]
  },
  {
   "cell_type": "code",
   "execution_count": null,
   "metadata": {},
   "outputs": [],
   "source": []
  }
 ],
 "metadata": {
  "interpreter": {
   "hash": "31f2aee4e71d21fbe5cf8b01ff0e069b9275f58929596ceb00d14d90e3e16cd6"
  },
  "kernelspec": {
   "display_name": "Python 3.8.9 64-bit",
   "language": "python",
   "name": "python3"
  },
  "language_info": {
   "codemirror_mode": {
    "name": "ipython",
    "version": 3
   },
   "file_extension": ".py",
   "mimetype": "text/x-python",
   "name": "python",
   "nbconvert_exporter": "python",
   "pygments_lexer": "ipython3",
   "version": "3.8.9"
  },
  "orig_nbformat": 4
 },
 "nbformat": 4,
 "nbformat_minor": 2
}
