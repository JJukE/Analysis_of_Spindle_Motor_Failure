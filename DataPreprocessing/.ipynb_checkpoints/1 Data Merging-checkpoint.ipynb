{
 "cells": [
  {
   "cell_type": "markdown",
   "metadata": {},
   "source": [
    "# 1. file명 (Path) 변수에 저장"
   ]
  },
  {
   "cell_type": "code",
   "execution_count": 22,
   "metadata": {},
   "outputs": [
    {
     "name": "stdout",
     "output_type": "stream",
     "text": [
      "/root/dev/datasets/S2_MR1_U2/TEST_175/\n"
     ]
    }
   ],
   "source": [
    "import os\n",
    "import numpy as np\n",
    "import pandas as pd\n",
    "\n",
    "# data_path = os.getcwd() + '/' # data가 ipynb파일과 같은 경로에 존재하는 경우\n",
    "data_path = '/root/dev/datasets/S2_MR1_U2/TEST_175/' # data가 다른 경로에 존재하는 경우\n",
    "\n",
    "print(data_path)"
   ]
  },
  {
   "cell_type": "code",
   "execution_count": 23,
   "metadata": {},
   "outputs": [
    {
     "name": "stdout",
     "output_type": "stream",
     "text": [
      "/root/dev/datasets/S2_MR1_U2/TEST_175/SPINDLE1_TEST1.txt\n",
      "SPINDLE1_TEST1.txt\n",
      "/root/dev/datasets/S2_MR1_U2/TEST_175/SPINDLE1_TEST2.txt\n",
      "SPINDLE1_TEST2.txt\n",
      "/root/dev/datasets/S2_MR1_U2/TEST_175/SPINDLE1_TEST3.txt\n",
      "SPINDLE1_TEST3.txt\n"
     ]
    }
   ],
   "source": [
    "import natsort # 문자열의 숫자를 기준으로 숫자 정렬처럼 정렬해줌!\n",
    "\n",
    "# 모든 텍스트 파일 불러오기\n",
    "file_paths = [] # 파일 경로를 담을 배열 선언\n",
    "file_names = [] # 파일 이름을 담을 배열 선언\n",
    "\n",
    "for dirname, _, filenames in os.walk(data_path):\n",
    "    filenames = natsort.natsorted(filenames)\n",
    "    for filename in filenames:\n",
    "        path = os.path.join(dirname, filename)\n",
    "        \n",
    "        # 파일명에 SPINDLE1_TEST를 포함하고, -와 RMS는 포함하지 않는 경우 1초간의 rawData\n",
    "        if(path.endswith('txt') and \"SPINDLE1_TEST\" in path and \"-\" not in path and \"RMS\" not in path):\n",
    "            file_paths.append(path)\n",
    "            file_names.append(filename)\n",
    "\n",
    "for i in range(3):\n",
    "    print(file_paths[i])\n",
    "    print(file_names[i])"
   ]
  },
  {
   "cell_type": "markdown",
   "metadata": {},
   "source": [
    "# 2. text파일을 Dataframe으로 저장 및 병합"
   ]
  },
  {
   "cell_type": "markdown",
   "metadata": {},
   "source": [
    "## 1-1) 각 파일을 dataframe으로 불러와 배열에 저장"
   ]
  },
  {
   "cell_type": "code",
   "execution_count": 24,
   "metadata": {
    "scrolled": true
   },
   "outputs": [
    {
     "name": "stdout",
     "output_type": "stream",
     "text": [
      "            time     x_acc     y_acc     x_dis     y_dis\n",
      "0       0.000000  0.431846  0.808040 -3.694279 -3.768028\n",
      "1       0.000100 -0.870366 -0.287659 -3.726162 -3.744841\n",
      "2       0.000200  1.295053  0.153317 -3.728738 -3.716179\n",
      "3       0.000300 -0.629983 -0.220904 -3.708771 -3.692991\n",
      "4       0.000400  0.061899  0.209549 -3.687516 -3.688160\n",
      "...          ...       ...       ...       ...       ...\n",
      "69995  10.374083  0.305899 -0.033136 -3.689126 -3.770283\n",
      "69996  10.374183 -0.250171  0.223031 -3.718111 -3.755791\n",
      "69997  10.374283  0.636714 -0.048591 -3.729060 -3.730027\n",
      "69998  10.374383 -0.702328 -0.019325 -3.719721 -3.694279\n",
      "69999  10.374483  0.078012  0.156605 -3.702652 -3.688804\n",
      "\n",
      "[70000 rows x 5 columns]\n",
      "Index(['time', 'x_acc', 'y_acc', 'x_dis', 'y_dis'], dtype='object')\n",
      "dataframe으로 불러온 array 개수:  4\n",
      "파일 path 개수 (위와 같아야 함):  4\n",
      "첫 번째 파일 행 개수:  70000\n",
      "두 번째 파일 행 개수:  80000\n"
     ]
    }
   ],
   "source": [
    "df_arr = [] # 각각의 파일을 dataframe으로 불러와 배열에 저장\n",
    "for i in range(len(file_paths)):\n",
    "    df_arr.append(pd.read_table(file_paths[i], sep='\\t', header=None,\n",
    "                                names=['time', 'x_acc', 'time2', 'y_acc', 'time3', 'temperature',\n",
    "                                       'time4', 'x_dis', 'time5', 'y_dis']))\n",
    "\n",
    "    # 불필요한 열 삭제\n",
    "    df_arr[i].drop(['time2', 'time3', 'temperature', 'time4', 'time5'], axis=1, inplace=True)\n",
    "\n",
    "print(df_arr[0])\n",
    "print(df_arr[1].columns)\n",
    "print('dataframe으로 불러온 array 개수: ', len(df_arr))\n",
    "print('파일 path 개수 (위와 같아야 함): ', len(file_paths))\n",
    "len_df_0 = len(df_arr[0])\n",
    "print('첫 번째 파일 행 개수: ', len_df_0)\n",
    "len_df_1 = len(df_arr[1])\n",
    "print('두 번째 파일 행 개수: ', len_df_1)"
   ]
  },
  {
   "cell_type": "code",
   "execution_count": 25,
   "metadata": {},
   "outputs": [
    {
     "data": {
      "text/html": [
       "<div>\n",
       "<style scoped>\n",
       "    .dataframe tbody tr th:only-of-type {\n",
       "        vertical-align: middle;\n",
       "    }\n",
       "\n",
       "    .dataframe tbody tr th {\n",
       "        vertical-align: top;\n",
       "    }\n",
       "\n",
       "    .dataframe thead th {\n",
       "        text-align: right;\n",
       "    }\n",
       "</style>\n",
       "<table border=\"1\" class=\"dataframe\">\n",
       "  <thead>\n",
       "    <tr style=\"text-align: right;\">\n",
       "      <th></th>\n",
       "      <th>time</th>\n",
       "      <th>x_acc</th>\n",
       "      <th>y_acc</th>\n",
       "      <th>x_dis</th>\n",
       "      <th>y_dis</th>\n",
       "    </tr>\n",
       "  </thead>\n",
       "  <tbody>\n",
       "    <tr>\n",
       "      <th>0</th>\n",
       "      <td>0.0000</td>\n",
       "      <td>0.431846</td>\n",
       "      <td>0.808040</td>\n",
       "      <td>-3.694279</td>\n",
       "      <td>-3.768028</td>\n",
       "    </tr>\n",
       "    <tr>\n",
       "      <th>1</th>\n",
       "      <td>0.0001</td>\n",
       "      <td>-0.870366</td>\n",
       "      <td>-0.287659</td>\n",
       "      <td>-3.726162</td>\n",
       "      <td>-3.744841</td>\n",
       "    </tr>\n",
       "    <tr>\n",
       "      <th>2</th>\n",
       "      <td>0.0002</td>\n",
       "      <td>1.295053</td>\n",
       "      <td>0.153317</td>\n",
       "      <td>-3.728738</td>\n",
       "      <td>-3.716179</td>\n",
       "    </tr>\n",
       "    <tr>\n",
       "      <th>3</th>\n",
       "      <td>0.0003</td>\n",
       "      <td>-0.629983</td>\n",
       "      <td>-0.220904</td>\n",
       "      <td>-3.708771</td>\n",
       "      <td>-3.692991</td>\n",
       "    </tr>\n",
       "    <tr>\n",
       "      <th>4</th>\n",
       "      <td>0.0004</td>\n",
       "      <td>0.061899</td>\n",
       "      <td>0.209549</td>\n",
       "      <td>-3.687516</td>\n",
       "      <td>-3.688160</td>\n",
       "    </tr>\n",
       "  </tbody>\n",
       "</table>\n",
       "</div>"
      ],
      "text/plain": [
       "     time     x_acc     y_acc     x_dis     y_dis\n",
       "0  0.0000  0.431846  0.808040 -3.694279 -3.768028\n",
       "1  0.0001 -0.870366 -0.287659 -3.726162 -3.744841\n",
       "2  0.0002  1.295053  0.153317 -3.728738 -3.716179\n",
       "3  0.0003 -0.629983 -0.220904 -3.708771 -3.692991\n",
       "4  0.0004  0.061899  0.209549 -3.687516 -3.688160"
      ]
     },
     "execution_count": 25,
     "metadata": {},
     "output_type": "execute_result"
    }
   ],
   "source": [
    "df_arr[0].head()"
   ]
  },
  {
   "cell_type": "code",
   "execution_count": 26,
   "metadata": {},
   "outputs": [
    {
     "name": "stdout",
     "output_type": "stream",
     "text": [
      "<class 'pandas.core.frame.DataFrame'>\n",
      "RangeIndex: 70000 entries, 0 to 69999\n",
      "Data columns (total 5 columns):\n",
      " #   Column  Non-Null Count  Dtype  \n",
      "---  ------  --------------  -----  \n",
      " 0   time    70000 non-null  float64\n",
      " 1   x_acc   70000 non-null  float64\n",
      " 2   y_acc   70000 non-null  float64\n",
      " 3   x_dis   70000 non-null  float64\n",
      " 4   y_dis   70000 non-null  float64\n",
      "dtypes: float64(5)\n",
      "memory usage: 2.7 MB\n"
     ]
    }
   ],
   "source": [
    "df_arr[0].info()"
   ]
  },
  {
   "cell_type": "markdown",
   "metadata": {},
   "source": [
    "## 1-2) data가 매우 많으므로 효율적인 datatype으로 변경"
   ]
  },
  {
   "cell_type": "code",
   "execution_count": 27,
   "metadata": {},
   "outputs": [],
   "source": [
    "for i in range(len(file_paths)):\n",
    "    df_arr[i]['x_acc'] = df_arr[i]['x_acc'].astype(np.float16)\n",
    "    df_arr[i]['y_acc'] = df_arr[i]['y_acc'].astype(np.float16)\n",
    "    df_arr[i]['x_dis'] = df_arr[i]['x_dis'].astype(np.float16)\n",
    "    df_arr[i]['y_dis'] = df_arr[i]['y_dis'].astype(np.float16)"
   ]
  },
  {
   "cell_type": "code",
   "execution_count": 28,
   "metadata": {},
   "outputs": [
    {
     "data": {
      "text/html": [
       "<div>\n",
       "<style scoped>\n",
       "    .dataframe tbody tr th:only-of-type {\n",
       "        vertical-align: middle;\n",
       "    }\n",
       "\n",
       "    .dataframe tbody tr th {\n",
       "        vertical-align: top;\n",
       "    }\n",
       "\n",
       "    .dataframe thead th {\n",
       "        text-align: right;\n",
       "    }\n",
       "</style>\n",
       "<table border=\"1\" class=\"dataframe\">\n",
       "  <thead>\n",
       "    <tr style=\"text-align: right;\">\n",
       "      <th></th>\n",
       "      <th>time</th>\n",
       "      <th>x_acc</th>\n",
       "      <th>y_acc</th>\n",
       "      <th>x_dis</th>\n",
       "      <th>y_dis</th>\n",
       "    </tr>\n",
       "  </thead>\n",
       "  <tbody>\n",
       "    <tr>\n",
       "      <th>0</th>\n",
       "      <td>0.0000</td>\n",
       "      <td>0.431885</td>\n",
       "      <td>0.808105</td>\n",
       "      <td>-3.693359</td>\n",
       "      <td>-3.767578</td>\n",
       "    </tr>\n",
       "    <tr>\n",
       "      <th>1</th>\n",
       "      <td>0.0001</td>\n",
       "      <td>-0.870605</td>\n",
       "      <td>-0.287598</td>\n",
       "      <td>-3.726562</td>\n",
       "      <td>-3.744141</td>\n",
       "    </tr>\n",
       "    <tr>\n",
       "      <th>2</th>\n",
       "      <td>0.0002</td>\n",
       "      <td>1.294922</td>\n",
       "      <td>0.153320</td>\n",
       "      <td>-3.728516</td>\n",
       "      <td>-3.716797</td>\n",
       "    </tr>\n",
       "    <tr>\n",
       "      <th>3</th>\n",
       "      <td>0.0003</td>\n",
       "      <td>-0.629883</td>\n",
       "      <td>-0.220947</td>\n",
       "      <td>-3.708984</td>\n",
       "      <td>-3.693359</td>\n",
       "    </tr>\n",
       "    <tr>\n",
       "      <th>4</th>\n",
       "      <td>0.0004</td>\n",
       "      <td>0.061890</td>\n",
       "      <td>0.209595</td>\n",
       "      <td>-3.687500</td>\n",
       "      <td>-3.687500</td>\n",
       "    </tr>\n",
       "  </tbody>\n",
       "</table>\n",
       "</div>"
      ],
      "text/plain": [
       "     time     x_acc     y_acc     x_dis     y_dis\n",
       "0  0.0000  0.431885  0.808105 -3.693359 -3.767578\n",
       "1  0.0001 -0.870605 -0.287598 -3.726562 -3.744141\n",
       "2  0.0002  1.294922  0.153320 -3.728516 -3.716797\n",
       "3  0.0003 -0.629883 -0.220947 -3.708984 -3.693359\n",
       "4  0.0004  0.061890  0.209595 -3.687500 -3.687500"
      ]
     },
     "execution_count": 28,
     "metadata": {},
     "output_type": "execute_result"
    }
   ],
   "source": [
    "df_arr[0].head()"
   ]
  },
  {
   "cell_type": "code",
   "execution_count": 29,
   "metadata": {},
   "outputs": [
    {
     "name": "stdout",
     "output_type": "stream",
     "text": [
      "<class 'pandas.core.frame.DataFrame'>\n",
      "RangeIndex: 70000 entries, 0 to 69999\n",
      "Data columns (total 5 columns):\n",
      " #   Column  Non-Null Count  Dtype  \n",
      "---  ------  --------------  -----  \n",
      " 0   time    70000 non-null  float64\n",
      " 1   x_acc   70000 non-null  float16\n",
      " 2   y_acc   70000 non-null  float16\n",
      " 3   x_dis   70000 non-null  float16\n",
      " 4   y_dis   70000 non-null  float16\n",
      "dtypes: float16(4), float64(1)\n",
      "memory usage: 1.1 MB\n"
     ]
    }
   ],
   "source": [
    "df_arr[0].info()"
   ]
  },
  {
   "cell_type": "markdown",
   "metadata": {},
   "source": [
    "## 2) Merge\n",
    "* 대부분 10분(600초) 간격을 두고 데이터를 수집했지만, 1초 간격으로 수집한 경우도 있음 (폴더에 명시되어있음)"
   ]
  },
  {
   "cell_type": "markdown",
   "metadata": {},
   "source": [
    "## 2-1) 여러 txt파일에 나누어진 data 값들을 각 txt파일 사이에 1초 간격을 주어서 병합"
   ]
  },
  {
   "cell_type": "code",
   "execution_count": 30,
   "metadata": {
    "scrolled": true
   },
   "outputs": [
    {
     "name": "stdout",
     "output_type": "stream",
     "text": [
      "70000\n",
      "10.374483\n",
      "<class 'numpy.float64'>\n",
      "time     10.374483\n",
      "x_acc     0.078003\n",
      "y_acc     0.156616\n",
      "x_dis    -3.703125\n",
      "y_dis    -3.689453\n",
      "Name: 69999, dtype: float64\n",
      "\n",
      "time     11.374483\n",
      "x_acc    -0.401367\n",
      "y_acc    -0.020966\n",
      "x_dis    -3.623047\n",
      "y_dis    -3.722656\n",
      "Name: 0, dtype: float64\n",
      "\n",
      "\n",
      "time     10.374483\n",
      "x_acc     0.078003\n",
      "y_acc     0.156616\n",
      "x_dis    -3.703125\n",
      "y_dis    -3.689453\n",
      "Name: 69999, dtype: float64\n",
      "\n",
      "time     11.374483\n",
      "x_acc    -0.401367\n",
      "y_acc    -0.020966\n",
      "x_dis    -3.623047\n",
      "y_dis    -3.722656\n",
      "Name: 0, dtype: float64\n",
      "\n",
      "\n",
      "time     10.374483\n",
      "x_acc     0.078003\n",
      "y_acc     0.156616\n",
      "x_dis    -3.703125\n",
      "y_dis    -3.689453\n",
      "Name: 69999, dtype: float64\n",
      "time     11.374483\n",
      "x_acc    -0.401367\n",
      "y_acc    -0.020966\n",
      "x_dis    -3.623047\n",
      "y_dis    -3.722656\n",
      "Name: 0, dtype: float64\n"
     ]
    }
   ],
   "source": [
    "last_index = df_arr[0].shape[0] # 마지막 행 index (확인용)\n",
    "print(last_index)\n",
    "\n",
    "for i in range(len(file_paths) - 1): # 마지막 파일은 제외\n",
    "    last_time = df_arr[i].iloc[-1,0]\n",
    "    \n",
    "    if (i == 0):\n",
    "        print(last_time)\n",
    "        print(type(last_time))\n",
    "    \n",
    "    # 연결될 파일(다음 파일)의 time열에만 last_time을 더함\n",
    "    df_arr[i+1] = df_arr[i+1].add([last_time + 1, 0, 0, 0, 0], axis=1) # 1초 간격 부여\n",
    "    \n",
    "    if (i == 0):\n",
    "        print(df_arr[i].iloc[last_index - 1,:])\n",
    "        print()\n",
    "        print(df_arr[i+1].iloc[0,:])\n",
    "    \n",
    "# dataframe을 연결함\n",
    "df = pd.concat(df_arr)\n",
    "df_arr[i+1] = pd.concat([df_arr[i], df_arr[i+1]], axis=0)\n",
    "\n",
    "print()\n",
    "print()\n",
    "print(df.iloc[last_index - 1,:])\n",
    "print()\n",
    "print(df.iloc[last_index, :])\n",
    "\n",
    "print()\n",
    "print()\n",
    "print(df.iloc[69999, :])\n",
    "print(df.iloc[70000, :])"
   ]
  },
  {
   "cell_type": "markdown",
   "metadata": {},
   "source": [
    "## 2-2) 여러 txt파일에 나누어진 data 값들을 각 txt파일 사이에 600초 (10분) 간격을 주어서 병합"
   ]
  },
  {
   "cell_type": "code",
   "execution_count": 31,
   "metadata": {
    "scrolled": true
   },
   "outputs": [
    {
     "name": "stdout",
     "output_type": "stream",
     "text": [
      "70000\n",
      "10.374483\n",
      "<class 'numpy.float64'>\n",
      "time     10.374483\n",
      "x_acc     0.078003\n",
      "y_acc     0.156616\n",
      "x_dis    -3.703125\n",
      "y_dis    -3.689453\n",
      "Name: 69999, dtype: float64\n",
      "\n",
      "time     621.748966\n",
      "x_acc     -0.401367\n",
      "y_acc     -0.020966\n",
      "x_dis     -3.623047\n",
      "y_dis     -3.722656\n",
      "Name: 0, dtype: float64\n",
      "\n",
      "\n",
      "time     10.374483\n",
      "x_acc     0.078003\n",
      "y_acc     0.156616\n",
      "x_dis    -3.703125\n",
      "y_dis    -3.689453\n",
      "Name: 69999, dtype: float64\n",
      "\n",
      "time     621.748966\n",
      "x_acc     -0.401367\n",
      "y_acc     -0.020966\n",
      "x_dis     -3.623047\n",
      "y_dis     -3.722656\n",
      "Name: 70000, dtype: float64\n",
      "\n",
      "\n",
      "time     10.374483\n",
      "x_acc     0.078003\n",
      "y_acc     0.156616\n",
      "x_dis    -3.703125\n",
      "y_dis    -3.689453\n",
      "Name: 69999, dtype: float64\n",
      "time     621.748966\n",
      "x_acc     -0.401367\n",
      "y_acc     -0.020966\n",
      "x_dis     -3.623047\n",
      "y_dis     -3.722656\n",
      "Name: 70000, dtype: float64\n"
     ]
    }
   ],
   "source": [
    "last_index = df_arr[0].shape[0] # 마지막 행 index (확인용)\n",
    "print(last_index)\n",
    "\n",
    "for i in range(len(file_paths) - 1): # 마지막 파일은 제외\n",
    "    last_time = df_arr[i].iloc[-1,0]\n",
    "    \n",
    "    if (i == 0):\n",
    "        print(last_time)\n",
    "        print(type(last_time))\n",
    "    \n",
    "    # 연결될 파일(다음 파일)의 time열에만 last_time을 더함\n",
    "    df_arr[i+1] = df_arr[i+1].add([last_time + 600, 0, 0, 0, 0], axis=1) # 600초 간격 부여\n",
    "    \n",
    "    if (i == 0):\n",
    "        print(df_arr[i].iloc[last_index - 1,:])\n",
    "        print()\n",
    "        print(df_arr[i+1].iloc[0,:])\n",
    "    \n",
    "# dataframe을 연결함\n",
    "df = pd.concat(df_arr, ignore_index=True)\n",
    "df_arr[i+1] = pd.concat([df_arr[i], df_arr[i+1]], axis=0)\n",
    "\n",
    "print()\n",
    "print()\n",
    "print(df.iloc[last_index - 1,:])\n",
    "print()\n",
    "print(df.iloc[last_index, :])\n",
    "\n",
    "print()\n",
    "print()\n",
    "print(df.iloc[69999, :])\n",
    "print(df.iloc[70000, :])"
   ]
  },
  {
   "cell_type": "markdown",
   "metadata": {},
   "source": [
    "## 3) 병합 결과 확인"
   ]
  },
  {
   "cell_type": "code",
   "execution_count": 32,
   "metadata": {
    "scrolled": false
   },
   "outputs": [
    {
     "name": "stdout",
     "output_type": "stream",
     "text": [
      "time     10.374483\n",
      "x_acc     0.078003\n",
      "y_acc     0.156616\n",
      "x_dis    -3.703125\n",
      "y_dis    -3.689453\n",
      "Name: 69999, dtype: float64\n",
      "\n",
      "time     621.748966\n",
      "x_acc     -0.401367\n",
      "y_acc     -0.020966\n",
      "x_dis     -3.623047\n",
      "y_dis     -3.722656\n",
      "Name: 70000, dtype: float64\n",
      "70000\n",
      "80000\n",
      "390000\n",
      "4\n"
     ]
    }
   ],
   "source": [
    "print(df.iloc[len_df_0 - 1,:])\n",
    "print()\n",
    "print(df.iloc[len_df_0,:])\n",
    "\n",
    "print(len(df_arr[0]))\n",
    "print(len(df_arr[1]))\n",
    "\n",
    "print(len(df))\n",
    "print(len(df_arr))"
   ]
  },
  {
   "cell_type": "code",
   "execution_count": 33,
   "metadata": {
    "scrolled": true
   },
   "outputs": [
    {
     "data": {
      "text/html": [
       "<div>\n",
       "<style scoped>\n",
       "    .dataframe tbody tr th:only-of-type {\n",
       "        vertical-align: middle;\n",
       "    }\n",
       "\n",
       "    .dataframe tbody tr th {\n",
       "        vertical-align: top;\n",
       "    }\n",
       "\n",
       "    .dataframe thead th {\n",
       "        text-align: right;\n",
       "    }\n",
       "</style>\n",
       "<table border=\"1\" class=\"dataframe\">\n",
       "  <thead>\n",
       "    <tr style=\"text-align: right;\">\n",
       "      <th></th>\n",
       "      <th>time</th>\n",
       "      <th>x_acc</th>\n",
       "      <th>y_acc</th>\n",
       "      <th>x_dis</th>\n",
       "      <th>y_dis</th>\n",
       "    </tr>\n",
       "  </thead>\n",
       "  <tbody>\n",
       "    <tr>\n",
       "      <th>0</th>\n",
       "      <td>0.0000</td>\n",
       "      <td>0.431885</td>\n",
       "      <td>0.808105</td>\n",
       "      <td>-3.693359</td>\n",
       "      <td>-3.767578</td>\n",
       "    </tr>\n",
       "    <tr>\n",
       "      <th>1</th>\n",
       "      <td>0.0001</td>\n",
       "      <td>-0.870605</td>\n",
       "      <td>-0.287598</td>\n",
       "      <td>-3.726562</td>\n",
       "      <td>-3.744141</td>\n",
       "    </tr>\n",
       "    <tr>\n",
       "      <th>2</th>\n",
       "      <td>0.0002</td>\n",
       "      <td>1.294922</td>\n",
       "      <td>0.153320</td>\n",
       "      <td>-3.728516</td>\n",
       "      <td>-3.716797</td>\n",
       "    </tr>\n",
       "    <tr>\n",
       "      <th>3</th>\n",
       "      <td>0.0003</td>\n",
       "      <td>-0.629883</td>\n",
       "      <td>-0.220947</td>\n",
       "      <td>-3.708984</td>\n",
       "      <td>-3.693359</td>\n",
       "    </tr>\n",
       "    <tr>\n",
       "      <th>4</th>\n",
       "      <td>0.0004</td>\n",
       "      <td>0.061890</td>\n",
       "      <td>0.209595</td>\n",
       "      <td>-3.687500</td>\n",
       "      <td>-3.687500</td>\n",
       "    </tr>\n",
       "  </tbody>\n",
       "</table>\n",
       "</div>"
      ],
      "text/plain": [
       "     time     x_acc     y_acc     x_dis     y_dis\n",
       "0  0.0000  0.431885  0.808105 -3.693359 -3.767578\n",
       "1  0.0001 -0.870605 -0.287598 -3.726562 -3.744141\n",
       "2  0.0002  1.294922  0.153320 -3.728516 -3.716797\n",
       "3  0.0003 -0.629883 -0.220947 -3.708984 -3.693359\n",
       "4  0.0004  0.061890  0.209595 -3.687500 -3.687500"
      ]
     },
     "execution_count": 33,
     "metadata": {},
     "output_type": "execute_result"
    }
   ],
   "source": [
    "df.head()"
   ]
  },
  {
   "cell_type": "code",
   "execution_count": 34,
   "metadata": {
    "scrolled": true
   },
   "outputs": [
    {
     "name": "stdout",
     "output_type": "stream",
     "text": [
      "<class 'pandas.core.frame.DataFrame'>\n",
      "RangeIndex: 390000 entries, 0 to 389999\n",
      "Data columns (total 5 columns):\n",
      " #   Column  Non-Null Count   Dtype  \n",
      "---  ------  --------------   -----  \n",
      " 0   time    390000 non-null  float64\n",
      " 1   x_acc   390000 non-null  float64\n",
      " 2   y_acc   390000 non-null  float64\n",
      " 3   x_dis   390000 non-null  float64\n",
      " 4   y_dis   390000 non-null  float64\n",
      "dtypes: float64(5)\n",
      "memory usage: 14.9 MB\n"
     ]
    }
   ],
   "source": [
    "df.info()"
   ]
  },
  {
   "cell_type": "code",
   "execution_count": 35,
   "metadata": {
    "scrolled": true
   },
   "outputs": [
    {
     "data": {
      "text/html": [
       "<div>\n",
       "<style scoped>\n",
       "    .dataframe tbody tr th:only-of-type {\n",
       "        vertical-align: middle;\n",
       "    }\n",
       "\n",
       "    .dataframe tbody tr th {\n",
       "        vertical-align: top;\n",
       "    }\n",
       "\n",
       "    .dataframe thead th {\n",
       "        text-align: right;\n",
       "    }\n",
       "</style>\n",
       "<table border=\"1\" class=\"dataframe\">\n",
       "  <thead>\n",
       "    <tr style=\"text-align: right;\">\n",
       "      <th></th>\n",
       "      <th>time</th>\n",
       "      <th>x_acc</th>\n",
       "      <th>y_acc</th>\n",
       "      <th>x_dis</th>\n",
       "      <th>y_dis</th>\n",
       "    </tr>\n",
       "  </thead>\n",
       "  <tbody>\n",
       "    <tr>\n",
       "      <th>count</th>\n",
       "      <td>390000.000000</td>\n",
       "      <td>390000.000000</td>\n",
       "      <td>390000.000000</td>\n",
       "      <td>390000.000000</td>\n",
       "      <td>390000.000000</td>\n",
       "    </tr>\n",
       "    <tr>\n",
       "      <th>mean</th>\n",
       "      <td>1169.749170</td>\n",
       "      <td>-0.000756</td>\n",
       "      <td>0.002427</td>\n",
       "      <td>-3.667056</td>\n",
       "      <td>-3.741006</td>\n",
       "    </tr>\n",
       "    <tr>\n",
       "      <th>std</th>\n",
       "      <td>725.680858</td>\n",
       "      <td>0.677244</td>\n",
       "      <td>0.377465</td>\n",
       "      <td>0.046360</td>\n",
       "      <td>0.037644</td>\n",
       "    </tr>\n",
       "    <tr>\n",
       "      <th>min</th>\n",
       "      <td>0.000000</td>\n",
       "      <td>-2.861328</td>\n",
       "      <td>-1.560547</td>\n",
       "      <td>-5.625000</td>\n",
       "      <td>-5.320312</td>\n",
       "    </tr>\n",
       "    <tr>\n",
       "      <th>25%</th>\n",
       "      <td>625.458628</td>\n",
       "      <td>-0.463867</td>\n",
       "      <td>-0.258057</td>\n",
       "      <td>-3.703125</td>\n",
       "      <td>-3.771484</td>\n",
       "    </tr>\n",
       "    <tr>\n",
       "      <th>50%</th>\n",
       "      <td>1263.313915</td>\n",
       "      <td>-0.001238</td>\n",
       "      <td>0.001721</td>\n",
       "      <td>-3.669922</td>\n",
       "      <td>-3.742188</td>\n",
       "    </tr>\n",
       "    <tr>\n",
       "      <th>75%</th>\n",
       "      <td>1901.196342</td>\n",
       "      <td>0.464111</td>\n",
       "      <td>0.260498</td>\n",
       "      <td>-3.625000</td>\n",
       "      <td>-3.705078</td>\n",
       "    </tr>\n",
       "    <tr>\n",
       "      <th>max</th>\n",
       "      <td>1915.827331</td>\n",
       "      <td>2.921875</td>\n",
       "      <td>1.801758</td>\n",
       "      <td>-3.466797</td>\n",
       "      <td>-3.564453</td>\n",
       "    </tr>\n",
       "  </tbody>\n",
       "</table>\n",
       "</div>"
      ],
      "text/plain": [
       "                time          x_acc          y_acc          x_dis  \\\n",
       "count  390000.000000  390000.000000  390000.000000  390000.000000   \n",
       "mean     1169.749170      -0.000756       0.002427      -3.667056   \n",
       "std       725.680858       0.677244       0.377465       0.046360   \n",
       "min         0.000000      -2.861328      -1.560547      -5.625000   \n",
       "25%       625.458628      -0.463867      -0.258057      -3.703125   \n",
       "50%      1263.313915      -0.001238       0.001721      -3.669922   \n",
       "75%      1901.196342       0.464111       0.260498      -3.625000   \n",
       "max      1915.827331       2.921875       1.801758      -3.466797   \n",
       "\n",
       "               y_dis  \n",
       "count  390000.000000  \n",
       "mean       -3.741006  \n",
       "std         0.037644  \n",
       "min        -5.320312  \n",
       "25%        -3.771484  \n",
       "50%        -3.742188  \n",
       "75%        -3.705078  \n",
       "max        -3.564453  "
      ]
     },
     "execution_count": 35,
     "metadata": {},
     "output_type": "execute_result"
    }
   ],
   "source": [
    "df.describe()"
   ]
  },
  {
   "cell_type": "code",
   "execution_count": 36,
   "metadata": {},
   "outputs": [
    {
     "name": "stdout",
     "output_type": "stream",
     "text": [
      "time     0\n",
      "x_acc    0\n",
      "y_acc    0\n",
      "x_dis    0\n",
      "y_dis    0\n",
      "dtype: int64\n"
     ]
    }
   ],
   "source": [
    "print(df.isnull().sum()) # column 별 결측치 개수"
   ]
  },
  {
   "cell_type": "markdown",
   "metadata": {},
   "source": [
    "# 3. Change to txt file (Save as a new file)"
   ]
  },
  {
   "cell_type": "markdown",
   "metadata": {},
   "source": [
    "## 1) Save as text file"
   ]
  },
  {
   "cell_type": "code",
   "execution_count": 37,
   "metadata": {},
   "outputs": [],
   "source": [
    "save_as = '/root/SpindleData/SPINDLE1_TEST_175.txt' # 병합 결과를 저장할 text파일명\n",
    "df.to_csv(save_as, sep = '\\t', index = False)"
   ]
  },
  {
   "cell_type": "markdown",
   "metadata": {},
   "source": [
    "## 2) Save as pickle file\n",
    "* 텍스트 상태의 데이터가 아닌 파이썬 객체 자체를 파일로 저장함\n",
    "* raw text파일은 불러오고 사용할 때 항상 parsing 작업 필요 → 비효율적!"
   ]
  },
  {
   "cell_type": "code",
   "execution_count": 18,
   "metadata": {},
   "outputs": [],
   "source": [
    "import pickle\n",
    "import os\n",
    "import natsort\n",
    "import pandas as pd"
   ]
  },
  {
   "cell_type": "code",
   "execution_count": 38,
   "metadata": {},
   "outputs": [],
   "source": [
    "# Save\n",
    "with open(\"/root/SpindleData/SPINDLE1_TEST_175.pickle\", \"wb\") as fw:\n",
    "    pickle.dump(df, fw)"
   ]
  },
  {
   "cell_type": "code",
   "execution_count": 20,
   "metadata": {},
   "outputs": [],
   "source": [
    "# Load\n",
    "with open(\"/root/SpindleData/SPINDLE1_TEST_175.pickle\", \"rb\") as fr:\n",
    "    df_56 = pickle.load(fr)"
   ]
  },
  {
   "cell_type": "markdown",
   "metadata": {},
   "source": [
    "# 4. Merge all pickle files"
   ]
  },
  {
   "cell_type": "markdown",
   "metadata": {},
   "source": [
    "## 1) Load all pickle files"
   ]
  },
  {
   "cell_type": "code",
   "execution_count": 40,
   "metadata": {},
   "outputs": [
    {
     "name": "stdout",
     "output_type": "stream",
     "text": [
      "/root/SpindleData/SPINDLE1_TEST_175.pickle\n",
      "SPINDLE1_TEST_175.pickle\n",
      "/root/SpindleData/SPINDLE1_TEST_176(spindle U2 파손됨).pickle\n",
      "SPINDLE1_TEST_176(spindle U2 파손됨).pickle\n",
      "2\n"
     ]
    }
   ],
   "source": [
    "# Load all pickle files\n",
    "merged_pickle_path = '/root/SpindleData/'\n",
    "\n",
    "merged_paths = []\n",
    "merged_names = []\n",
    "\n",
    "for dirname, _, filenames in os.walk(merged_pickle_path):\n",
    "    filenames = natsort.natsorted(filenames)\n",
    "    for filename in filenames:\n",
    "        path = os.path.join(dirname, filename)\n",
    "        if(path.endswith('pickle')):\n",
    "            merged_paths.append(path)\n",
    "            merged_names.append(filename)\n",
    "\n",
    "for i in range(len(merged_paths)):\n",
    "    print(merged_paths[i])\n",
    "    print(merged_names[i])\n",
    "\n",
    "print(len(merged_paths))"
   ]
  },
  {
   "cell_type": "code",
   "execution_count": 41,
   "metadata": {},
   "outputs": [
    {
     "name": "stdout",
     "output_type": "stream",
     "text": [
      "2\n"
     ]
    }
   ],
   "source": [
    "final_df = [] # 모든 data를 담을 dataframe 리스트\n",
    "\n",
    "for path in merged_paths:\n",
    "    with open(path, \"rb\") as fr:\n",
    "        final_df.append(pickle.load(fr))\n",
    "\n",
    "print(len(final_df))"
   ]
  },
  {
   "cell_type": "markdown",
   "metadata": {},
   "source": [
    "## 2) Concatenate"
   ]
  },
  {
   "cell_type": "code",
   "execution_count": 42,
   "metadata": {},
   "outputs": [
    {
     "name": "stdout",
     "output_type": "stream",
     "text": [
      "58620000\n"
     ]
    }
   ],
   "source": [
    "# 모든 dataframe 연결\n",
    "finalDF = pd.concat(final_df, ignore_index=True)\n",
    "\n",
    "print(len(finalDF))"
   ]
  },
  {
   "cell_type": "markdown",
   "metadata": {},
   "source": [
    "## 3) Result"
   ]
  },
  {
   "cell_type": "code",
   "execution_count": 43,
   "metadata": {},
   "outputs": [
    {
     "name": "stdout",
     "output_type": "stream",
     "text": [
      "<class 'pandas.core.frame.DataFrame'>\n",
      "RangeIndex: 58620000 entries, 0 to 58619999\n",
      "Data columns (total 5 columns):\n",
      " #   Column  Dtype  \n",
      "---  ------  -----  \n",
      " 0   time    float64\n",
      " 1   x_acc   float64\n",
      " 2   y_acc   float64\n",
      " 3   x_dis   float64\n",
      " 4   y_dis   float64\n",
      "dtypes: float64(5)\n",
      "memory usage: 2.2 GB\n"
     ]
    }
   ],
   "source": [
    "finalDF.info()"
   ]
  },
  {
   "cell_type": "markdown",
   "metadata": {},
   "source": [
    "## 4) Save as pickle file"
   ]
  },
  {
   "cell_type": "code",
   "execution_count": 44,
   "metadata": {},
   "outputs": [],
   "source": [
    "# Save\n",
    "with open(\"/root/SpindleData/MergedData.pickle\", \"wb\") as fw:\n",
    "    pickle.dump(finalDF, fw, protocol=pickle.HIGHEST_PROTOCOL)"
   ]
  },
  {
   "cell_type": "code",
   "execution_count": null,
   "metadata": {},
   "outputs": [],
   "source": []
  }
 ],
 "metadata": {
  "kernelspec": {
   "display_name": "Python 3 (ipykernel)",
   "language": "python",
   "name": "python3"
  },
  "language_info": {
   "codemirror_mode": {
    "name": "ipython",
    "version": 3
   },
   "file_extension": ".py",
   "mimetype": "text/x-python",
   "name": "python",
   "nbconvert_exporter": "python",
   "pygments_lexer": "ipython3",
   "version": "3.7.10"
  }
 },
 "nbformat": 4,
 "nbformat_minor": 4
}
