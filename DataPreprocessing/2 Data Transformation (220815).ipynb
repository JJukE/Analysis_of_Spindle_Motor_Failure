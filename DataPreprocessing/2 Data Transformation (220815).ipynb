{
 "cells": [
  {
   "cell_type": "markdown",
   "id": "023db2f3",
   "metadata": {},
   "source": [
    "# 1. 초당 text data만 data_path 변수에 저장"
   ]
  },
  {
   "cell_type": "code",
   "execution_count": 4,
   "id": "0c5d8877",
   "metadata": {},
   "outputs": [],
   "source": [
    "import os\n",
    "import numpy as np\n",
    "import matplotlib.pyplot as plt\n",
    "import pandas as pd\n",
    "import pickle\n",
    "import math\n",
    "import natsort\n",
    "from numpy.fft import fft"
   ]
  },
  {
   "cell_type": "markdown",
   "id": "f0c8e130",
   "metadata": {},
   "source": [
    "## 1) data path 지정"
   ]
  },
  {
   "cell_type": "code",
   "execution_count": 63,
   "id": "21bc426a",
   "metadata": {},
   "outputs": [
    {
     "name": "stdout",
     "output_type": "stream",
     "text": [
      "\u001b[01;34m/root/dev/datasets/S2_MR1_U2\u001b[00m\n",
      "├── \u001b[01;34mTEST_175\u001b[00m\n",
      "├── \u001b[01;34mTEST_176(spindle U2 파손됨)\u001b[00m\n",
      "└── \u001b[01;34mTEST_55(S2_MR1_U2 실험 시작)\u001b[00m\n",
      "\n",
      "3 directories\n"
     ]
    }
   ],
   "source": [
    "!tree -d /root/dev/datasets/S2_MR1_U2"
   ]
  },
  {
   "cell_type": "code",
   "execution_count": 47,
   "id": "fee8981f",
   "metadata": {},
   "outputs": [
    {
     "name": "stdout",
     "output_type": "stream",
     "text": [
      "/root/dev/datasets/S2_MR1_U2/\n"
     ]
    }
   ],
   "source": [
    "data_path = '/root/dev/datasets/S2_MR1_U2/' # data의 상위 디렉토리 폴더명을 넣어야함(TEST_175, TEST_176 등의 폴더 상위)!\n",
    "\n",
    "print(data_path)"
   ]
  },
  {
   "cell_type": "code",
   "execution_count": 48,
   "id": "53ff871f",
   "metadata": {},
   "outputs": [
    {
     "name": "stdout",
     "output_type": "stream",
     "text": [
      "Test 174.txt\n",
      "\n",
      "/root/dev/datasets/S2_MR1_U2/TEST_55(S2_MR1_U2 실험 시작)\n",
      "/root/dev/datasets/S2_MR1_U2/TEST_175\n",
      "/root/dev/datasets/S2_MR1_U2/TEST_176(spindle U2 파손됨)\n"
     ]
    }
   ],
   "source": [
    "dirs_path = []\n",
    "\n",
    "print(os.listdir(data_path)[0])\n",
    "for dirs in os.listdir(data_path):\n",
    "    path = os.path.join(data_path, dirs)\n",
    "    if 'TEST' in dirs:\n",
    "        dirs_path.append(path)\n",
    "\n",
    "print()\n",
    "dirs_path = natsort.natsorted(dirs_path)\n",
    "for i in range(len(dirs_path)):\n",
    "    print(dirs_path[i])"
   ]
  },
  {
   "cell_type": "markdown",
   "id": "2a0f8fb5",
   "metadata": {},
   "source": [
    "### RMS file의 data 수와 각 초 데이터의 개수 비교"
   ]
  },
  {
   "cell_type": "markdown",
   "id": "c618dacf",
   "metadata": {},
   "source": [
    "* 기존에 있는 RMS text file의 하나의 행 → TEST_xx 폴더 내에 있는 초당 데이터 10000개에 대한 root mean square 값"
   ]
  },
  {
   "cell_type": "code",
   "execution_count": 48,
   "id": "64b19c4d",
   "metadata": {},
   "outputs": [
    {
     "data": {
      "text/html": [
       "<div>\n",
       "<style scoped>\n",
       "    .dataframe tbody tr th:only-of-type {\n",
       "        vertical-align: middle;\n",
       "    }\n",
       "\n",
       "    .dataframe tbody tr th {\n",
       "        vertical-align: top;\n",
       "    }\n",
       "\n",
       "    .dataframe thead th {\n",
       "        text-align: right;\n",
       "    }\n",
       "</style>\n",
       "<table border=\"1\" class=\"dataframe\">\n",
       "  <thead>\n",
       "    <tr style=\"text-align: right;\">\n",
       "      <th></th>\n",
       "      <th>time</th>\n",
       "      <th>x_acc</th>\n",
       "      <th>y_acc</th>\n",
       "      <th>x_dis</th>\n",
       "      <th>y_dis</th>\n",
       "    </tr>\n",
       "  </thead>\n",
       "  <tbody>\n",
       "    <tr>\n",
       "      <th>0</th>\n",
       "      <td>0.0</td>\n",
       "      <td>0.000000</td>\n",
       "      <td>0.454516</td>\n",
       "      <td>0.000000</td>\n",
       "      <td>0.676221</td>\n",
       "    </tr>\n",
       "    <tr>\n",
       "      <th>1</th>\n",
       "      <td>0.0</td>\n",
       "      <td>1.933929</td>\n",
       "      <td>0.429717</td>\n",
       "      <td>1.933929</td>\n",
       "      <td>0.680655</td>\n",
       "    </tr>\n",
       "    <tr>\n",
       "      <th>2</th>\n",
       "      <td>0.0</td>\n",
       "      <td>3.382792</td>\n",
       "      <td>0.517485</td>\n",
       "      <td>3.382792</td>\n",
       "      <td>0.675380</td>\n",
       "    </tr>\n",
       "    <tr>\n",
       "      <th>3</th>\n",
       "      <td>0.0</td>\n",
       "      <td>4.836420</td>\n",
       "      <td>0.674280</td>\n",
       "      <td>4.836420</td>\n",
       "      <td>0.678120</td>\n",
       "    </tr>\n",
       "    <tr>\n",
       "      <th>4</th>\n",
       "      <td>0.0</td>\n",
       "      <td>6.289185</td>\n",
       "      <td>4.483608</td>\n",
       "      <td>6.289185</td>\n",
       "      <td>1.814529</td>\n",
       "    </tr>\n",
       "    <tr>\n",
       "      <th>5</th>\n",
       "      <td>0.0</td>\n",
       "      <td>7.742306</td>\n",
       "      <td>59.557672</td>\n",
       "      <td>7.742306</td>\n",
       "      <td>2.502752</td>\n",
       "    </tr>\n",
       "    <tr>\n",
       "      <th>6</th>\n",
       "      <td>0.0</td>\n",
       "      <td>9.195873</td>\n",
       "      <td>70.897388</td>\n",
       "      <td>9.195873</td>\n",
       "      <td>2.658727</td>\n",
       "    </tr>\n",
       "    <tr>\n",
       "      <th>7</th>\n",
       "      <td>0.0</td>\n",
       "      <td>600.000293</td>\n",
       "      <td>199.347743</td>\n",
       "      <td>600.000293</td>\n",
       "      <td>2.770461</td>\n",
       "    </tr>\n",
       "    <tr>\n",
       "      <th>8</th>\n",
       "      <td>0.0</td>\n",
       "      <td>601.440979</td>\n",
       "      <td>192.349393</td>\n",
       "      <td>601.440979</td>\n",
       "      <td>2.746174</td>\n",
       "    </tr>\n",
       "    <tr>\n",
       "      <th>9</th>\n",
       "      <td>0.0</td>\n",
       "      <td>602.893339</td>\n",
       "      <td>197.104124</td>\n",
       "      <td>602.893339</td>\n",
       "      <td>2.774090</td>\n",
       "    </tr>\n",
       "    <tr>\n",
       "      <th>10</th>\n",
       "      <td>0.0</td>\n",
       "      <td>604.352981</td>\n",
       "      <td>201.079620</td>\n",
       "      <td>604.352981</td>\n",
       "      <td>2.788352</td>\n",
       "    </tr>\n",
       "    <tr>\n",
       "      <th>11</th>\n",
       "      <td>0.0</td>\n",
       "      <td>605.798927</td>\n",
       "      <td>191.508211</td>\n",
       "      <td>605.798927</td>\n",
       "      <td>2.855300</td>\n",
       "    </tr>\n",
       "    <tr>\n",
       "      <th>12</th>\n",
       "      <td>0.0</td>\n",
       "      <td>607.263772</td>\n",
       "      <td>192.190071</td>\n",
       "      <td>607.263772</td>\n",
       "      <td>2.780832</td>\n",
       "    </tr>\n",
       "    <tr>\n",
       "      <th>13</th>\n",
       "      <td>0.0</td>\n",
       "      <td>608.725954</td>\n",
       "      <td>191.766961</td>\n",
       "      <td>608.725954</td>\n",
       "      <td>2.827273</td>\n",
       "    </tr>\n",
       "    <tr>\n",
       "      <th>14</th>\n",
       "      <td>0.0</td>\n",
       "      <td>610.179262</td>\n",
       "      <td>193.789793</td>\n",
       "      <td>610.179262</td>\n",
       "      <td>2.767715</td>\n",
       "    </tr>\n",
       "    <tr>\n",
       "      <th>15</th>\n",
       "      <td>0.0</td>\n",
       "      <td>1200.000954</td>\n",
       "      <td>186.090155</td>\n",
       "      <td>1200.000954</td>\n",
       "      <td>2.787510</td>\n",
       "    </tr>\n",
       "    <tr>\n",
       "      <th>16</th>\n",
       "      <td>0.0</td>\n",
       "      <td>1201.461422</td>\n",
       "      <td>185.769639</td>\n",
       "      <td>1201.461422</td>\n",
       "      <td>2.760081</td>\n",
       "    </tr>\n",
       "    <tr>\n",
       "      <th>17</th>\n",
       "      <td>0.0</td>\n",
       "      <td>1202.916271</td>\n",
       "      <td>185.264807</td>\n",
       "      <td>1202.916271</td>\n",
       "      <td>2.718855</td>\n",
       "    </tr>\n",
       "    <tr>\n",
       "      <th>18</th>\n",
       "      <td>0.0</td>\n",
       "      <td>1204.406255</td>\n",
       "      <td>192.326596</td>\n",
       "      <td>1204.406255</td>\n",
       "      <td>2.887772</td>\n",
       "    </tr>\n",
       "    <tr>\n",
       "      <th>19</th>\n",
       "      <td>0.0</td>\n",
       "      <td>1205.903731</td>\n",
       "      <td>183.559217</td>\n",
       "      <td>1205.903731</td>\n",
       "      <td>2.735088</td>\n",
       "    </tr>\n",
       "  </tbody>\n",
       "</table>\n",
       "</div>"
      ],
      "text/plain": [
       "    time        x_acc       y_acc        x_dis     y_dis\n",
       "0    0.0     0.000000    0.454516     0.000000  0.676221\n",
       "1    0.0     1.933929    0.429717     1.933929  0.680655\n",
       "2    0.0     3.382792    0.517485     3.382792  0.675380\n",
       "3    0.0     4.836420    0.674280     4.836420  0.678120\n",
       "4    0.0     6.289185    4.483608     6.289185  1.814529\n",
       "5    0.0     7.742306   59.557672     7.742306  2.502752\n",
       "6    0.0     9.195873   70.897388     9.195873  2.658727\n",
       "7    0.0   600.000293  199.347743   600.000293  2.770461\n",
       "8    0.0   601.440979  192.349393   601.440979  2.746174\n",
       "9    0.0   602.893339  197.104124   602.893339  2.774090\n",
       "10   0.0   604.352981  201.079620   604.352981  2.788352\n",
       "11   0.0   605.798927  191.508211   605.798927  2.855300\n",
       "12   0.0   607.263772  192.190071   607.263772  2.780832\n",
       "13   0.0   608.725954  191.766961   608.725954  2.827273\n",
       "14   0.0   610.179262  193.789793   610.179262  2.767715\n",
       "15   0.0  1200.000954  186.090155  1200.000954  2.787510\n",
       "16   0.0  1201.461422  185.769639  1201.461422  2.760081\n",
       "17   0.0  1202.916271  185.264807  1202.916271  2.718855\n",
       "18   0.0  1204.406255  192.326596  1204.406255  2.887772\n",
       "19   0.0  1205.903731  183.559217  1205.903731  2.735088"
      ]
     },
     "execution_count": 48,
     "metadata": {},
     "output_type": "execute_result"
    }
   ],
   "source": [
    "# # RMS file check\n",
    "# df = pd.read_table(rawdata_path + str(rawdataNums[55]) + '/SPINDLE1_TEST_RMS_55.txt', sep='\\t', header=None,\n",
    "#                    names=['time', 'x_acc', 'time2', 'y_acc',\n",
    "#                           'time3', 'x_dis', 'time4', 'y_dis'])\n",
    "\n",
    "# df.drop(['time2', 'time3', 'time4'], axis=1, inplace=True) # inplace → df 자체를 바꿈 (다른 변수를 따로 만들어줄 필요 x)\n",
    "\n",
    "# df.head(20)"
   ]
  },
  {
   "cell_type": "code",
   "execution_count": 49,
   "id": "7696285d",
   "metadata": {},
   "outputs": [
    {
     "data": {
      "text/plain": [
       "4630"
      ]
     },
     "execution_count": 49,
     "metadata": {},
     "output_type": "execute_result"
    }
   ],
   "source": [
    "# len(df)"
   ]
  },
  {
   "cell_type": "code",
   "execution_count": 54,
   "id": "f287eaa0",
   "metadata": {},
   "outputs": [
    {
     "name": "stdout",
     "output_type": "stream",
     "text": [
      "/root/dev/datasets/S2_MR1_U2/TEST_175/SPINDLE1_TEST1-0.txt\n",
      "SPINDLE1_TEST1-0.txt\n",
      "/root/dev/datasets/S2_MR1_U2/TEST_175/SPINDLE1_TEST1-2.txt\n",
      "SPINDLE1_TEST1-2.txt\n",
      "/root/dev/datasets/S2_MR1_U2/TEST_175/SPINDLE1_TEST1-3.txt\n",
      "SPINDLE1_TEST1-3.txt\n",
      "/root/dev/datasets/S2_MR1_U2/TEST_175/SPINDLE1_TEST1-5.txt\n",
      "SPINDLE1_TEST1-5.txt\n",
      "/root/dev/datasets/S2_MR1_U2/TEST_175/SPINDLE1_TEST1-6.txt\n",
      "SPINDLE1_TEST1-6.txt\n",
      "/root/dev/datasets/S2_MR1_U2/TEST_175/SPINDLE1_TEST1-8.txt\n",
      "SPINDLE1_TEST1-8.txt\n",
      "/root/dev/datasets/S2_MR1_U2/TEST_175/SPINDLE1_TEST1-9.txt\n",
      "SPINDLE1_TEST1-9.txt\n",
      "/root/dev/datasets/S2_MR1_U2/TEST_175/SPINDLE1_TEST2-0.txt\n",
      "SPINDLE1_TEST2-0.txt\n",
      "/root/dev/datasets/S2_MR1_U2/TEST_175/SPINDLE1_TEST2-1.txt\n",
      "SPINDLE1_TEST2-1.txt\n",
      "/root/dev/datasets/S2_MR1_U2/TEST_175/SPINDLE1_TEST2-3.txt\n",
      "SPINDLE1_TEST2-3.txt\n"
     ]
    }
   ],
   "source": [
    "# number of raw second data check\n",
    "file_paths = []\n",
    "file_names = []\n",
    "# firstDirPaths = [] # TEST_55 dir만 (확인용)\n",
    "# firstDirNames = []\n",
    "\n",
    "for directory in dirs_path:\n",
    "    for dirname, _, filenames in os.walk(directory):\n",
    "        filenames = natsort.natsorted(filenames)\n",
    "        for filename in filenames:\n",
    "            path = os.path.join(dirname, filename)\n",
    "            if (path.endswith('txt') and \"SPINDLE1_TEST\" in path and \"-\" in path and \"RMS\" not in path):\n",
    "                file_paths.append(path)\n",
    "                file_names.append(filename)\n",
    "\n",
    "# # TEST_55 dir\n",
    "# for dirname, _, filenames in os.walk(dirs_path[0]):\n",
    "#         filenames = natsort.natsorted(filenames)\n",
    "#         for filename in filenames:\n",
    "#             path = os.path.join(dirname, filename)\n",
    "#             if (path.endswith('txt') and \"SPINDLE1_TEST\" in path and \"-\" in path and \"RMS\" not in path):\n",
    "#                 firstDirPaths.append(path)\n",
    "#                 firstDirNames.append(filename)\n",
    "\n",
    "# print(len(file_names))\n",
    "# print(len(firstDirNames))\n",
    "# print()\n",
    "\n",
    "for i in range(10):\n",
    "    print(file_paths[i])\n",
    "    print(file_names[i])"
   ]
  },
  {
   "cell_type": "markdown",
   "id": "0033d237",
   "metadata": {},
   "source": [
    "* 개수가 같음을 확인"
   ]
  },
  {
   "cell_type": "markdown",
   "id": "9776d78e",
   "metadata": {},
   "source": [
    "# 2. 초당 데이터를 FFT 변환"
   ]
  },
  {
   "cell_type": "markdown",
   "id": "6d61b93c",
   "metadata": {},
   "source": [
    "## 1) text file의 time domain data를 dataframe의 리스트로 만듦 \n",
    "* numpy로 불러오는데 시간 너무 오래걸려서 pandas로 불러와서 이후에 np.values 함수로 numpy로 바꿔줌"
   ]
  },
  {
   "cell_type": "code",
   "execution_count": 55,
   "id": "7a70a715",
   "metadata": {},
   "outputs": [
    {
     "name": "stdout",
     "output_type": "stream",
     "text": [
      "0txt files transformed to pandas df\n",
      "100txt files transformed to pandas df\n",
      "200txt files transformed to pandas df\n",
      "300txt files transformed to pandas df\n",
      "400txt files transformed to pandas df\n",
      "500txt files transformed to pandas df\n",
      "600txt files transformed to pandas df\n",
      "700txt files transformed to pandas df\n",
      "800txt files transformed to pandas df\n",
      "900txt files transformed to pandas df\n",
      "1000txt files transformed to pandas df\n",
      "1100txt files transformed to pandas df\n",
      "1200txt files transformed to pandas df\n",
      "1300txt files transformed to pandas df\n",
      "1400txt files transformed to pandas df\n",
      "1500txt files transformed to pandas df\n",
      "1600txt files transformed to pandas df\n",
      "1700txt files transformed to pandas df\n",
      "1800txt files transformed to pandas df\n",
      "1900txt files transformed to pandas df\n",
      "2000txt files transformed to pandas df\n",
      "2100txt files transformed to pandas df\n",
      "2200txt files transformed to pandas df\n",
      "2300txt files transformed to pandas df\n",
      "2400txt files transformed to pandas df\n",
      "2500txt files transformed to pandas df\n",
      "2600txt files transformed to pandas df\n",
      "2700txt files transformed to pandas df\n",
      "2800txt files transformed to pandas df\n",
      "2900txt files transformed to pandas df\n",
      "3000txt files transformed to pandas df\n",
      "3100txt files transformed to pandas df\n",
      "3200txt files transformed to pandas df\n",
      "3300txt files transformed to pandas df\n",
      "3400txt files transformed to pandas df\n",
      "3500txt files transformed to pandas df\n",
      "3600txt files transformed to pandas df\n",
      "3700txt files transformed to pandas df\n",
      "3800txt files transformed to pandas df\n",
      "3900txt files transformed to pandas df\n",
      "4000txt files transformed to pandas df\n",
      "4100txt files transformed to pandas df\n",
      "4200txt files transformed to pandas df\n",
      "4300txt files transformed to pandas df\n",
      "4400txt files transformed to pandas df\n",
      "4500txt files transformed to pandas df\n",
      "4600txt files transformed to pandas df\n",
      "4700txt files transformed to pandas df\n",
      "4800txt files transformed to pandas df\n",
      "4900txt files transformed to pandas df\n",
      "5000txt files transformed to pandas df\n",
      "5100txt files transformed to pandas df\n",
      "5200txt files transformed to pandas df\n",
      "5300txt files transformed to pandas df\n",
      "5400txt files transformed to pandas df\n",
      "5500txt files transformed to pandas df\n",
      "5600txt files transformed to pandas df\n",
      "5700txt files transformed to pandas df\n",
      "5800txt files transformed to pandas df\n"
     ]
    }
   ],
   "source": [
    "# time domain dataframe (list)\n",
    "t_data = []\n",
    "\n",
    "for i in range(len(file_paths)):\n",
    "    t_data.append(pd.read_table(file_paths[i], sep='\\t', header=None,\n",
    "                                names=['time', 'x_acc', 'time2', 'y_acc', 'time3', 'temperature',\n",
    "                                       'time4', 'x_dis', 'time5', 'y_dis']))\n",
    "\n",
    "    # 불필요한 열 삭제\n",
    "    t_data[i].drop(['time2', 'time3', 'temperature', 'time4', 'time5'], axis=1, inplace=True)\n",
    "    \n",
    "    if (i % 100 == 0):\n",
    "        print(str(i) + 'txt files transformed to pandas df')"
   ]
  },
  {
   "cell_type": "code",
   "execution_count": 64,
   "id": "2d629be9",
   "metadata": {},
   "outputs": [
    {
     "name": "stdout",
     "output_type": "stream",
     "text": [
      "5847\n"
     ]
    }
   ],
   "source": [
    "print(len(t_data))"
   ]
  },
  {
   "cell_type": "code",
   "execution_count": 65,
   "id": "018b827a",
   "metadata": {
    "scrolled": true
   },
   "outputs": [
    {
     "name": "stdout",
     "output_type": "stream",
     "text": [
      "<class 'pandas.core.frame.DataFrame'>\n",
      "RangeIndex: 10000 entries, 0 to 9999\n",
      "Data columns (total 5 columns):\n",
      " #   Column  Non-Null Count  Dtype  \n",
      "---  ------  --------------  -----  \n",
      " 0   time    10000 non-null  float64\n",
      " 1   x_acc   10000 non-null  float64\n",
      " 2   y_acc   10000 non-null  float64\n",
      " 3   x_dis   10000 non-null  float64\n",
      " 4   y_dis   10000 non-null  float64\n",
      "dtypes: float64(5)\n",
      "memory usage: 390.8 KB\n"
     ]
    }
   ],
   "source": [
    "t_data[0].info()"
   ]
  },
  {
   "cell_type": "code",
   "execution_count": 66,
   "id": "9418b908",
   "metadata": {
    "scrolled": false
   },
   "outputs": [
    {
     "data": {
      "text/html": [
       "<div>\n",
       "<style scoped>\n",
       "    .dataframe tbody tr th:only-of-type {\n",
       "        vertical-align: middle;\n",
       "    }\n",
       "\n",
       "    .dataframe tbody tr th {\n",
       "        vertical-align: top;\n",
       "    }\n",
       "\n",
       "    .dataframe thead th {\n",
       "        text-align: right;\n",
       "    }\n",
       "</style>\n",
       "<table border=\"1\" class=\"dataframe\">\n",
       "  <thead>\n",
       "    <tr style=\"text-align: right;\">\n",
       "      <th></th>\n",
       "      <th>time</th>\n",
       "      <th>x_acc</th>\n",
       "      <th>y_acc</th>\n",
       "      <th>x_dis</th>\n",
       "      <th>y_dis</th>\n",
       "    </tr>\n",
       "  </thead>\n",
       "  <tbody>\n",
       "    <tr>\n",
       "      <th>0</th>\n",
       "      <td>0.0000</td>\n",
       "      <td>0.431846</td>\n",
       "      <td>0.808040</td>\n",
       "      <td>-3.694279</td>\n",
       "      <td>-3.768028</td>\n",
       "    </tr>\n",
       "    <tr>\n",
       "      <th>1</th>\n",
       "      <td>0.0001</td>\n",
       "      <td>-0.870366</td>\n",
       "      <td>-0.287659</td>\n",
       "      <td>-3.726162</td>\n",
       "      <td>-3.744841</td>\n",
       "    </tr>\n",
       "    <tr>\n",
       "      <th>2</th>\n",
       "      <td>0.0002</td>\n",
       "      <td>1.295053</td>\n",
       "      <td>0.153317</td>\n",
       "      <td>-3.728738</td>\n",
       "      <td>-3.716179</td>\n",
       "    </tr>\n",
       "    <tr>\n",
       "      <th>3</th>\n",
       "      <td>0.0003</td>\n",
       "      <td>-0.629983</td>\n",
       "      <td>-0.220904</td>\n",
       "      <td>-3.708771</td>\n",
       "      <td>-3.692991</td>\n",
       "    </tr>\n",
       "    <tr>\n",
       "      <th>4</th>\n",
       "      <td>0.0004</td>\n",
       "      <td>0.061899</td>\n",
       "      <td>0.209549</td>\n",
       "      <td>-3.687516</td>\n",
       "      <td>-3.688160</td>\n",
       "    </tr>\n",
       "  </tbody>\n",
       "</table>\n",
       "</div>"
      ],
      "text/plain": [
       "     time     x_acc     y_acc     x_dis     y_dis\n",
       "0  0.0000  0.431846  0.808040 -3.694279 -3.768028\n",
       "1  0.0001 -0.870366 -0.287659 -3.726162 -3.744841\n",
       "2  0.0002  1.295053  0.153317 -3.728738 -3.716179\n",
       "3  0.0003 -0.629983 -0.220904 -3.708771 -3.692991\n",
       "4  0.0004  0.061899  0.209549 -3.687516 -3.688160"
      ]
     },
     "execution_count": 66,
     "metadata": {},
     "output_type": "execute_result"
    }
   ],
   "source": [
    "t_data[0].head(5)"
   ]
  },
  {
   "cell_type": "markdown",
   "id": "b011a7b9",
   "metadata": {},
   "source": [
    "## 2) time domain data 리스트 저장 및 불러오기"
   ]
  },
  {
   "cell_type": "code",
   "execution_count": 67,
   "id": "68f7e4c7",
   "metadata": {},
   "outputs": [],
   "source": [
    "# 초당 데이터 pickle로 저장\n",
    "with open('/root/SpindleData/time_domain_data_sec.pickle', 'wb') as fw:\n",
    "    pickle.dump(t_data, fw)"
   ]
  },
  {
   "cell_type": "code",
   "execution_count": 7,
   "id": "84c05e33",
   "metadata": {},
   "outputs": [],
   "source": [
    "# pickle data 불러오기\n",
    "with open(\"/root/SpindleData/time_domain_data_sec.pickle\", \"rb\") as fr:\n",
    "    t_data = pickle.load(fr)"
   ]
  },
  {
   "cell_type": "markdown",
   "id": "0174930a",
   "metadata": {},
   "source": [
    "## 3) FFT 변환 및 plot"
   ]
  },
  {
   "cell_type": "markdown",
   "id": "8ce97df2",
   "metadata": {},
   "source": [
    "### (1) numpy fft"
   ]
  },
  {
   "cell_type": "code",
   "execution_count": 12,
   "id": "7d8eb5c3",
   "metadata": {},
   "outputs": [
    {
     "name": "stdout",
     "output_type": "stream",
     "text": [
      "0 amplitude created\n",
      "10000 amplitude created\n",
      "20000 amplitude created\n",
      "30000 amplitude created\n",
      "40000 amplitude created\n",
      "50000 amplitude created\n",
      "60000 amplitude created\n"
     ]
    }
   ],
   "source": [
    "# # FFT for x_dis and y_dis with numpy\n",
    "# amplitude_x = []\n",
    "# amplitude_y = []\n",
    "\n",
    "# for i in range(len(t_data)):\n",
    "#     amplitude_x.append(abs(np.fft.fft(t_data[i]['x_dis'].values) / len(t_data[i])))\n",
    "#     amplitude_y.append(abs(np.fft.fft(t_data[i]['y_dis'].values) / len(t_data[i])))\n",
    "    \n",
    "#     if(i % 10000 == 0):\n",
    "#         print(str(i) + ' amplitude created')\n",
    "\n",
    "# freq = np.fft.fftfreq(len(t_data[i]), d=0.0001) # 센서가 1초에 10000개 data 읽음 (10000Hz), 즉 샘플링 간격은 1/10000"
   ]
  },
  {
   "cell_type": "code",
   "execution_count": 68,
   "id": "8040cbe5",
   "metadata": {},
   "outputs": [
    {
     "data": {
      "image/png": "[encoded data removed]",
      "text/plain": [
       "<Figure size 432x288 with 1 Axes>"
      ]
     },
     "metadata": {
      "needs_background": "light"
     },
     "output_type": "display_data"
    }
   ],
   "source": [
    "import matplotlib.pyplot as plt\n",
    "import numpy as np\n",
    "\n",
    "\n",
    "N = 500\n",
    "T = 1.0 / 600.0\n",
    "x = np.linspace(0.0, N*T, N)\n",
    "y = np.sin(60.0 * 2.0*np.pi*x) + 0.5*np.sin(90.0 * 2.0*np.pi*x)\n",
    "y_f = fft(y)\n",
    "x_f = np.linspace(0.0, 1.0/(2.0*T), N//2)\n",
    "\n",
    "plt.plot(x_f, 2.0/N * np.abs(y_f[:N//2]))\n",
    "plt.show()"
   ]
  },
  {
   "cell_type": "code",
   "execution_count": 71,
   "id": "501c5e6e",
   "metadata": {},
   "outputs": [
    {
     "name": "stdout",
     "output_type": "stream",
     "text": [
      "5847\n"
     ]
    },
    {
     "data": {
      "image/png": "[encoded data removed]",
      "text/plain": [
       "<Figure size 432x288 with 1 Axes>"
      ]
     },
     "metadata": {
      "needs_background": "light"
     },
     "output_type": "display_data"
    }
   ],
   "source": [
    "# FFT_Spindle\n",
    "def fft_spindle(data):\n",
    "    # FFT\n",
    "    N = len(data) # 10000 (1초간 10000개 data 측정)\n",
    "    T = 1.0 / 10000 # 측정 주기\n",
    "    amp_x_dis = fft(data['x_dis'].values) # fft 결과 x_dis 열의 amplitude 값\n",
    "    amp_y_dis = fft(data['y_dis'].values) # fft 결과 y_dis 열의 amplitude 값\n",
    "    amp_x_dis = 2.0/N * np.abs(amp_x_dis[:N//2]) # 반만 필요\n",
    "    amp_y_dis = 2.0/N * np.abs(amp_y_dis[:N//2])\n",
    "    freq = np.linspace(0.0, 1.0/(2.0*T), N//2) # frequency (반만 가져옴)\n",
    "    return freq, amp_x_dis, amp_y_dis\n",
    "\n",
    "# 5000번째 1초간 data 입력 시 fft 변환 결과\n",
    "print(len(t_data))\n",
    "frequency, amplitude_x, amplitude_y = fft_spindle(t_data[5000])\n",
    "plt.plot(frequency, amplitude_x)\n",
    "plt.xlim(0, 5000)\n",
    "plt.ylim(0, 0.001)\n",
    "plt.show()"
   ]
  },
  {
   "cell_type": "markdown",
   "id": "02697990",
   "metadata": {},
   "source": [
    "### EX) 60000번째 데이터의 x축 변위 FFT Plot\n",
    "* 첫 번째 그래프 : time domain\n",
    "* 두 번째 그래프 : freq domain\n",
    "* 세 번째 그래프 : freq domain 잎-줄기 그림"
   ]
  },
  {
   "cell_type": "code",
   "execution_count": 127,
   "id": "004268f1",
   "metadata": {},
   "outputs": [
    {
     "data": {
      "image/png": "[encoded data removed]",
      "text/plain": [
       "<Figure size 1152x3456 with 3 Axes>"
      ]
     },
     "metadata": {
      "needs_background": "light"
     },
     "output_type": "display_data"
    }
   ],
   "source": [
    "# fig = plt.figure(figsize=(16, 48))\n",
    "# ax1 = fig.add_subplot(3,1,1)\n",
    "# ax1.plot(t_data[65000]['time'].values, t_data[65000]['x_dis'].values)\n",
    "# ax1.grid()\n",
    "\n",
    "# ax2 = fig.add_subplot(3,1,2)\n",
    "# ax2.set_xlim(0, 10000)\n",
    "# ax2.set_ylim(0, 0.005)\n",
    "# ax2.plot(freq, amplitude_x[65000])\n",
    "# ax2.grid()\n",
    "\n",
    "# ax3 = fig.add_subplot(3,1,3)\n",
    "# ax3.stem(amplitude_x[65000], use_line_collection=True)\n",
    "# ax3.set_ylim(-10,10)\n",
    "# ax3.grid()\n",
    "\n",
    "# plt.show()"
   ]
  },
  {
   "cell_type": "markdown",
   "id": "43a1d172",
   "metadata": {},
   "source": [
    "# 3. 새로운 df 생성"
   ]
  },
  {
   "cell_type": "code",
   "execution_count": 74,
   "id": "532785fa",
   "metadata": {},
   "outputs": [
    {
     "name": "stdout",
     "output_type": "stream",
     "text": [
      "0 data transformed.\n"
     ]
    },
    {
     "name": "stderr",
     "output_type": "stream",
     "text": [
      "/opt/conda/envs/IMSproj/lib/python3.7/site-packages/ipykernel_launcher.py:27: RuntimeWarning: invalid value encountered in double_scalars\n",
      "/opt/conda/envs/IMSproj/lib/python3.7/site-packages/ipykernel_launcher.py:28: RuntimeWarning: invalid value encountered in double_scalars\n",
      "/opt/conda/envs/IMSproj/lib/python3.7/site-packages/ipykernel_launcher.py:30: RuntimeWarning: invalid value encountered in double_scalars\n"
     ]
    },
    {
     "name": "stdout",
     "output_type": "stream",
     "text": [
      "1000 data transformed.\n",
      "2000 data transformed.\n",
      "3000 data transformed.\n",
      "4000 data transformed.\n",
      "5000 data transformed.\n",
      "[0. 0. 0. ... 0. 0. 0.]\n",
      "10000\n",
      "\n",
      "5847 5847 5847 5847 5847 5847 5847\n"
     ]
    }
   ],
   "source": [
    "threshold = 0.001\n",
    "\n",
    "filteredFreq = []\n",
    "numPop_total = [] # x, y distance 총 튄 값 개수\n",
    "numPop_x = [] # x distance 튄 값 개수 list\n",
    "numPop_y = [] # y distance 튄 값 개수 list\n",
    "popVal_x = [] # x distance 튄 값들의 평균값 list\n",
    "popVal_y = [] # y distance 튄 값들의 평균값 list\n",
    "popVal_mean = [] # x, y 전체 튄 값들의 평균값 list\n",
    "\n",
    "for i in range(len(t_data)):\n",
    "    freq, pop_x, pop_y = fft_spindle(t_data[i])\n",
    "    pop_x[0] = 0 # 맨 처음 값은 FFT 특성 상 큰 값을 가지므로 무시\n",
    "    pop_y[0] = 0\n",
    "    freq = np.where(((pop_x > threshold) | (pop_y > threshold)), freq, 0)\n",
    "    # print(len(freq))\n",
    "    # print(np.count_nonzero(freq))\n",
    "    pop_x = np.where(pop_x > threshold, pop_x, 0) # 튄 값만 그대로 두고 나머지는 0\n",
    "    pop_y = np.where(pop_y > threshold, pop_y, 0)\n",
    "    # print(len(pop_x))\n",
    "    # print(np.count_nonzero(pop_x))\n",
    "    \n",
    "    filteredFreq.append(freq[np.nonzero(freq)]) # 튄 값의 freq를 하나의 리스트로\n",
    "    numPop_total.append(np.count_nonzero(freq))\n",
    "    numPop_x.append(np.count_nonzero(pop_x))\n",
    "    numPop_y.append(np.count_nonzero(pop_y))\n",
    "    popVal_x.append(np.sum(pop_x) / np.count_nonzero(pop_x))\n",
    "    popVal_y.append(np.sum(pop_y) / np.count_nonzero(pop_y))\n",
    "    popVal_mean.append((np.sum(pop_x) + np.sum(pop_y)) /\n",
    "                       (np.count_nonzero(pop_x) + np.count_nonzero(pop_y)))\n",
    "    \n",
    "    if i % 1000 == 0:\n",
    "        print(str(i) + ' data transformed.')\n",
    "\n",
    "print(pop_x)\n",
    "print(len(t_data[5000]))\n",
    "# print(numPop_x)\n",
    "# print(numPop_y)\n",
    "# print(popVal)\n",
    "print()\n",
    "print(len(filteredFreq), len(numPop_total), len(numPop_x), len(numPop_y),\n",
    "      len(popVal_x), len(popVal_y), len(popVal_mean))"
   ]
  },
  {
   "cell_type": "code",
   "execution_count": 75,
   "id": "7ccab02b",
   "metadata": {},
   "outputs": [
    {
     "name": "stdout",
     "output_type": "stream",
     "text": [
      "                                     Filtered_freq_list  popCount_freq  \\\n",
      "0     [58.01160232046409, 59.01180236047209, 302.060...             38   \n",
      "1     [58.01160232046409, 59.01180236047209, 302.060...             34   \n",
      "2     [58.01160232046409, 59.01180236047209, 60.0120...             35   \n",
      "3     [58.01160232046409, 59.01180236047209, 60.0120...             39   \n",
      "4     [58.01160232046409, 59.01180236047209, 60.0120...             36   \n",
      "...                                                 ...            ...   \n",
      "5842                                                 []              0   \n",
      "5843                                 [614.122824564913]              1   \n",
      "5844                                 [614.122824564913]              1   \n",
      "5845                                [615.1230246049209]              1   \n",
      "5846                                 [614.122824564913]              1   \n",
      "\n",
      "      popCount_x  popCount_y  popDegree_mean_x  popDegree_mean_y  \\\n",
      "0             38          24          0.004129          0.004608   \n",
      "1             33          21          0.004092          0.004574   \n",
      "2             35          25          0.004224          0.004363   \n",
      "3             38          26          0.003965          0.004357   \n",
      "4             35          26          0.004269          0.004343   \n",
      "...          ...         ...               ...               ...   \n",
      "5842           0           0               NaN               NaN   \n",
      "5843           1           1          0.001289          0.001200   \n",
      "5844           1           1          0.001463          0.001393   \n",
      "5845           1           1          0.001154          0.001142   \n",
      "5846           1           1          0.001354          0.001276   \n",
      "\n",
      "      popDegree_total_mean  \n",
      "0                 0.004314  \n",
      "1                 0.004280  \n",
      "2                 0.004282  \n",
      "3                 0.004124  \n",
      "4                 0.004300  \n",
      "...                    ...  \n",
      "5842                   NaN  \n",
      "5843              0.001244  \n",
      "5844              0.001428  \n",
      "5845              0.001148  \n",
      "5846              0.001315  \n",
      "\n",
      "[5847 rows x 7 columns]\n"
     ]
    }
   ],
   "source": [
    "# transformed dataframe\n",
    "transDF = pd.DataFrame({\n",
    "    'Filtered_freq_list' : filteredFreq,\n",
    "    'popCount_freq' : numPop_total,\n",
    "    'popCount_x' : numPop_x,\n",
    "    'popCount_y' : numPop_y,\n",
    "    'popDegree_mean_x' : popVal_x,\n",
    "    'popDegree_mean_y' : popVal_y,\n",
    "    'popDegree_total_mean' : popVal_mean\n",
    "})\n",
    "print(transDF)"
   ]
  },
  {
   "cell_type": "code",
   "execution_count": 76,
   "id": "e613a104",
   "metadata": {},
   "outputs": [
    {
     "name": "stdout",
     "output_type": "stream",
     "text": [
      "<class 'pandas.core.frame.DataFrame'>\n",
      "RangeIndex: 5847 entries, 0 to 5846\n",
      "Data columns (total 7 columns):\n",
      " #   Column                Non-Null Count  Dtype  \n",
      "---  ------                --------------  -----  \n",
      " 0   Filtered_freq_list    5847 non-null   object \n",
      " 1   popCount_freq         5847 non-null   int64  \n",
      " 2   popCount_x            5847 non-null   int64  \n",
      " 3   popCount_y            5847 non-null   int64  \n",
      " 4   popDegree_mean_x      5838 non-null   float64\n",
      " 5   popDegree_mean_y      5777 non-null   float64\n",
      " 6   popDegree_total_mean  5838 non-null   float64\n",
      "dtypes: float64(3), int64(3), object(1)\n",
      "memory usage: 319.9+ KB\n"
     ]
    }
   ],
   "source": [
    "transDF.info()"
   ]
  },
  {
   "cell_type": "code",
   "execution_count": 78,
   "id": "31e271b4",
   "metadata": {
    "scrolled": true
   },
   "outputs": [
    {
     "data": {
      "text/plain": [
       "Text(0.5, 0.92, 'data visualization')"
      ]
     },
     "execution_count": 78,
     "metadata": {},
     "output_type": "execute_result"
    },
    {
     "data": {
      "image/png": "[encoded data removed]",
      "text/plain": [
       "<Figure size 576x576 with 1 Axes>"
      ]
     },
     "metadata": {
      "needs_background": "light"
     },
     "output_type": "display_data"
    }
   ],
   "source": [
    "# 3d scatter plot\n",
    "from mpl_toolkits.mplot3d import Axes3D\n",
    "\n",
    "fig = plt.figure(figsize=(8, 8))\n",
    "ax = fig.add_subplot(111, projection='3d')\n",
    "ax.scatter(transDF['popCount_x'], transDF['popCount_y'], transDF['popDegree_total_mean'], marker='o', s=15)\n",
    "ax.set_xlabel('number of popped x values')\n",
    "ax.set_ylabel('number of popped y values')\n",
    "ax.set_zlabel('mean of popping')\n",
    "plt.title('data visualization')"
   ]
  },
  {
   "cell_type": "markdown",
   "id": "566fa7ec",
   "metadata": {},
   "source": [
    "## transformed dataframe 저장"
   ]
  },
  {
   "cell_type": "code",
   "execution_count": 81,
   "id": "de7e365a",
   "metadata": {},
   "outputs": [],
   "source": [
    "# transformed dataframe pickle로 저장 (~30000)\n",
    "with open('/root/SpindleData/transformed_data.pickle', 'wb') as fw:\n",
    "    pickle.dump(transDF, fw)"
   ]
  },
  {
   "cell_type": "markdown",
   "id": "c040487e",
   "metadata": {},
   "source": [
    "# 4. 2개로 나눈 Dataframe을 다시 병합 및 저장 (2번에 나눠서 한 경우에만 실행)"
   ]
  },
  {
   "cell_type": "code",
   "execution_count": 46,
   "id": "5f67ce57",
   "metadata": {},
   "outputs": [],
   "source": [
    "# pickle data 불러오기\n",
    "with open(\"/Users/jjuke/Desktop/Study/BigDataAnalysis/TermProject/SPINDLE DATA/transformed_data_0.pickle\", \"rb\") as f1:\n",
    "    partial_data_0 = pickle.load(f1)\n",
    "    \n",
    "with open(\"/Users/jjuke/Desktop/Study/BigDataAnalysis/TermProject/SPINDLE DATA/transformed_data_1.pickle\", \"rb\") as f2:\n",
    "    partial_data_1 = pickle.load(f2)"
   ]
  },
  {
   "cell_type": "code",
   "execution_count": 47,
   "id": "1d07809c",
   "metadata": {},
   "outputs": [
    {
     "name": "stdout",
     "output_type": "stream",
     "text": [
      "30000\n",
      "36524\n",
      "66524\n"
     ]
    }
   ],
   "source": [
    "transformed_dataframe = pd.concat([partial_data_0, partial_data_1], axis=0, ignore_index=True)\n",
    "\n",
    "print(len(partial_data_0))\n",
    "print(len(partial_data_1))\n",
    "print(len(transformed_dataframe))"
   ]
  },
  {
   "cell_type": "code",
   "execution_count": 48,
   "id": "312ac8cf",
   "metadata": {},
   "outputs": [
    {
     "data": {
      "text/html": [
       "<div>\n",
       "<style scoped>\n",
       "    .dataframe tbody tr th:only-of-type {\n",
       "        vertical-align: middle;\n",
       "    }\n",
       "\n",
       "    .dataframe tbody tr th {\n",
       "        vertical-align: top;\n",
       "    }\n",
       "\n",
       "    .dataframe thead th {\n",
       "        text-align: right;\n",
       "    }\n",
       "</style>\n",
       "<table border=\"1\" class=\"dataframe\">\n",
       "  <thead>\n",
       "    <tr style=\"text-align: right;\">\n",
       "      <th></th>\n",
       "      <th>Filtered_freq_list</th>\n",
       "      <th>popCount_freq</th>\n",
       "      <th>popCount_x</th>\n",
       "      <th>popCount_y</th>\n",
       "      <th>popDegree_mean_x</th>\n",
       "      <th>popDegree_mean_y</th>\n",
       "      <th>popDegree_total_mean</th>\n",
       "    </tr>\n",
       "  </thead>\n",
       "  <tbody>\n",
       "    <tr>\n",
       "      <th>0</th>\n",
       "      <td>[3968.7937587517504, 3969.793958791758, 3970.7...</td>\n",
       "      <td>3</td>\n",
       "      <td>3</td>\n",
       "      <td>3</td>\n",
       "      <td>0.002493</td>\n",
       "      <td>0.002519</td>\n",
       "      <td>0.002506</td>\n",
       "    </tr>\n",
       "    <tr>\n",
       "      <th>1</th>\n",
       "      <td>[3969.793958791758, 3970.7941588317663, 3971.7...</td>\n",
       "      <td>3</td>\n",
       "      <td>3</td>\n",
       "      <td>3</td>\n",
       "      <td>0.002427</td>\n",
       "      <td>0.002444</td>\n",
       "      <td>0.002435</td>\n",
       "    </tr>\n",
       "    <tr>\n",
       "      <th>2</th>\n",
       "      <td>[3970.7941588317663, 3971.794358871774, 3972.7...</td>\n",
       "      <td>3</td>\n",
       "      <td>3</td>\n",
       "      <td>3</td>\n",
       "      <td>0.002519</td>\n",
       "      <td>0.002536</td>\n",
       "      <td>0.002528</td>\n",
       "    </tr>\n",
       "    <tr>\n",
       "      <th>3</th>\n",
       "      <td>[3970.7941588317663, 3971.794358871774, 3972.7...</td>\n",
       "      <td>5</td>\n",
       "      <td>5</td>\n",
       "      <td>5</td>\n",
       "      <td>0.002050</td>\n",
       "      <td>0.002058</td>\n",
       "      <td>0.002054</td>\n",
       "    </tr>\n",
       "    <tr>\n",
       "      <th>4</th>\n",
       "      <td>[1.0002000400080016, 2.000400080016003, 3.0006...</td>\n",
       "      <td>28</td>\n",
       "      <td>28</td>\n",
       "      <td>21</td>\n",
       "      <td>0.002241</td>\n",
       "      <td>0.002098</td>\n",
       "      <td>0.002180</td>\n",
       "    </tr>\n",
       "  </tbody>\n",
       "</table>\n",
       "</div>"
      ],
      "text/plain": [
       "                                  Filtered_freq_list  popCount_freq  \\\n",
       "0  [3968.7937587517504, 3969.793958791758, 3970.7...              3   \n",
       "1  [3969.793958791758, 3970.7941588317663, 3971.7...              3   \n",
       "2  [3970.7941588317663, 3971.794358871774, 3972.7...              3   \n",
       "3  [3970.7941588317663, 3971.794358871774, 3972.7...              5   \n",
       "4  [1.0002000400080016, 2.000400080016003, 3.0006...             28   \n",
       "\n",
       "   popCount_x  popCount_y  popDegree_mean_x  popDegree_mean_y  \\\n",
       "0           3           3          0.002493          0.002519   \n",
       "1           3           3          0.002427          0.002444   \n",
       "2           3           3          0.002519          0.002536   \n",
       "3           5           5          0.002050          0.002058   \n",
       "4          28          21          0.002241          0.002098   \n",
       "\n",
       "   popDegree_total_mean  \n",
       "0              0.002506  \n",
       "1              0.002435  \n",
       "2              0.002528  \n",
       "3              0.002054  \n",
       "4              0.002180  "
      ]
     },
     "execution_count": 48,
     "metadata": {},
     "output_type": "execute_result"
    }
   ],
   "source": [
    "transformed_dataframe.head()"
   ]
  },
  {
   "cell_type": "code",
   "execution_count": 49,
   "id": "4a6ba482",
   "metadata": {},
   "outputs": [
    {
     "name": "stdout",
     "output_type": "stream",
     "text": [
      "<class 'pandas.core.frame.DataFrame'>\n",
      "RangeIndex: 66524 entries, 0 to 66523\n",
      "Data columns (total 7 columns):\n",
      " #   Column                Non-Null Count  Dtype  \n",
      "---  ------                --------------  -----  \n",
      " 0   Filtered_freq_list    66524 non-null  object \n",
      " 1   popCount_freq         66524 non-null  int64  \n",
      " 2   popCount_x            66524 non-null  int64  \n",
      " 3   popCount_y            66524 non-null  int64  \n",
      " 4   popDegree_mean_x      66524 non-null  float64\n",
      " 5   popDegree_mean_y      66524 non-null  float64\n",
      " 6   popDegree_total_mean  66524 non-null  float64\n",
      "dtypes: float64(3), int64(3), object(1)\n",
      "memory usage: 3.6+ MB\n"
     ]
    }
   ],
   "source": [
    "transformed_dataframe.info()"
   ]
  },
  {
   "cell_type": "code",
   "execution_count": 51,
   "id": "db75baa3",
   "metadata": {},
   "outputs": [],
   "source": [
    "# transformed dataframe pickle로 저장\n",
    "with open('/Users/jjuke/Desktop/Study/BigDataAnalysis/TermProject/SPINDLE DATA/transformed_dataframe.pickle', 'wb') as w:\n",
    "    pickle.dump(transformed_dataframe, w)"
   ]
  },
  {
   "cell_type": "code",
   "execution_count": null,
   "id": "cc375416",
   "metadata": {},
   "outputs": [],
   "source": [
    "# transformed dataframe 불러오기"
   ]
  }
 ],
 "metadata": {
  "kernelspec": {
   "display_name": "ims_proj",
   "language": "python",
   "name": "conda"
  },
  "language_info": {
   "codemirror_mode": {
    "name": "ipython",
    "version": 3
   },
   "file_extension": ".py",
   "mimetype": "text/x-python",
   "name": "python",
   "nbconvert_exporter": "python",
   "pygments_lexer": "ipython3",
   "version": "3.7.10"
  }
 },
 "nbformat": 4,
 "nbformat_minor": 5
}
