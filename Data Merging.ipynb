{
 "cells": [
  {
   "cell_type": "markdown",
   "metadata": {},
   "source": [
    "# 1. file명 (Path) 변수에 저장"
   ]
  },
  {
   "cell_type": "code",
   "execution_count": 272,
   "metadata": {},
   "outputs": [
    {
     "name": "stdout",
     "output_type": "stream",
     "text": [
      "/Users/jjuke/Desktop/Study/BigDataAnalysis/TermProject/SPINDLE DATA/TEST_69(Continue)/\n"
     ]
    }
   ],
   "source": [
    "import os\n",
    "import numpy as np\n",
    "import pandas as pd\n",
    "\n",
    "# data_path = os.getcwd() + '/' # data가 ipynb파일과 같은 경로에 존재하는 경우\n",
    "data_path = '/Users/jjuke/Desktop/Study/BigDataAnalysis/TermProject/SPINDLE DATA/TEST_69(Continue)/' # data가 다른 경로에 존재하는 경우\n",
    "\n",
    "print(data_path)"
   ]
  },
  {
   "cell_type": "code",
   "execution_count": 276,
   "metadata": {},
   "outputs": [
    {
     "name": "stdout",
     "output_type": "stream",
     "text": [
      "['/Users/jjuke/Desktop/Study/BigDataAnalysis/TermProject/SPINDLE DATA/TEST_69(Continue)/SPINDLE1_TEST1.txt', '/Users/jjuke/Desktop/Study/BigDataAnalysis/TermProject/SPINDLE DATA/TEST_69(Continue)/SPINDLE1_TEST2.txt', '/Users/jjuke/Desktop/Study/BigDataAnalysis/TermProject/SPINDLE DATA/TEST_69(Continue)/SPINDLE1_TEST3.txt']\n",
      "/Users/jjuke/Desktop/Study/BigDataAnalysis/TermProject/SPINDLE DATA/TEST_69(Continue)/SPINDLE1_TEST1.txt\n",
      "SPINDLE1_TEST1.txt\n",
      "/Users/jjuke/Desktop/Study/BigDataAnalysis/TermProject/SPINDLE DATA/TEST_69(Continue)/SPINDLE1_TEST2.txt\n",
      "SPINDLE1_TEST2.txt\n",
      "/Users/jjuke/Desktop/Study/BigDataAnalysis/TermProject/SPINDLE DATA/TEST_69(Continue)/SPINDLE1_TEST3.txt\n",
      "SPINDLE1_TEST3.txt\n"
     ]
    }
   ],
   "source": [
    "import natsort # 문자열의 숫자를 기준으로 숫자 정렬처럼 정렬해줌!\n",
    "\n",
    "# 모든 텍스트 파일 불러오기\n",
    "file_paths = [] # 파일 경로를 담을 배열 선언\n",
    "file_names = [] # 파일 이름을 담을 배열 선언\n",
    "\n",
    "for dirname, _, filenames in os.walk(data_path):\n",
    "    filenames = natsort.natsorted(filenames)\n",
    "    for filename in filenames:\n",
    "        path = os.path.join(dirname, filename)\n",
    "        \n",
    "        # 파일명에 SPINDLE1_TEST를 포함하고, -와 RMS는 포함하지 않는 경우 1초간의 rawData\n",
    "        if(path.endswith('txt') and \"SPINDLE1_TEST\" in path and \"-\" not in path and \"RMS\" not in path):\n",
    "            file_paths.append(path)\n",
    "            file_names.append(filename)\n",
    "\n",
    "for i in range(3):\n",
    "    print(file_paths[i])\n",
    "    print(file_names[i])"
   ]
  },
  {
   "cell_type": "markdown",
   "metadata": {},
   "source": [
    "# 2. text파일을 Dataframe으로 저장 및 병합"
   ]
  },
  {
   "cell_type": "markdown",
   "metadata": {},
   "source": [
    "## 1-1) 각 파일을 dataframe으로 불러와 배열에 저장"
   ]
  },
  {
   "cell_type": "code",
   "execution_count": 277,
   "metadata": {
    "scrolled": true
   },
   "outputs": [
    {
     "name": "stdout",
     "output_type": "stream",
     "text": [
      "               time     x_acc     y_acc     x_dis     y_dis\n",
      "0          0.000000  0.002379  0.002050 -6.854546 -5.781479\n",
      "1          0.000100  0.002050  0.001721 -6.863886 -5.796293\n",
      "2          0.000200  0.002708  0.003365 -6.844563 -5.787920\n",
      "3          0.000300  0.002379  0.002050 -6.863564 -5.786310\n",
      "4          0.000400  0.003694  0.002379 -6.851326 -5.799192\n",
      "5          0.000500  0.003037  0.002379 -6.851326 -5.782123\n",
      "6          0.000600  0.002708  0.001721 -6.862920 -5.797581\n",
      "7          0.000700  0.002050  0.002050 -6.845851 -5.791140\n",
      "8          0.000800  0.001721  0.002050 -6.863564 -5.786310\n",
      "9          0.000900  0.002379 -0.000581 -6.853580 -5.801124\n",
      "10         0.001000  0.004023  0.003365 -6.851326 -5.783733\n",
      "11         0.001100  0.002708  0.002379 -6.865174 -5.797259\n",
      "12         0.001200  0.003037  0.002050 -6.847139 -5.793395\n",
      "13         0.001300 -0.003869  0.002379 -6.863564 -5.786310\n",
      "14         0.001400  0.002379  0.002050 -6.853580 -5.799836\n",
      "15         0.001500  0.002379  0.002050 -6.851004 -5.783411\n",
      "16         0.001600  0.002708  0.001721 -6.863886 -5.796293\n",
      "17         0.001700  0.003037  0.002379 -6.844885 -5.792107\n",
      "18         0.001800 -0.003211  0.002379 -6.862920 -5.786954\n",
      "19         0.001900  0.003365  0.002050 -6.854868 -5.800158\n",
      "20         0.002000  0.002379  0.001721 -6.847783 -5.783411\n",
      "21         0.002100  0.003365  0.000406 -6.865496 -5.795005\n",
      "22         0.002200  0.002050  0.002708 -6.845851 -5.793717\n",
      "23         0.002300  0.001721  0.002050 -6.860021 -5.783411\n",
      "24         0.002400  0.003037  0.002708 -6.855513 -5.800802\n",
      "25         0.002500  0.001721  0.002708 -6.849394 -5.784055\n",
      "26         0.002600  0.002708  0.002050 -6.864852 -5.792107\n",
      "27         0.002700  0.002708  0.001392 -6.846173 -5.794039\n",
      "28         0.002800  0.002379  0.002708 -6.860987 -5.783411\n",
      "29         0.002900  0.002379  0.002379 -6.856479 -5.801446\n",
      "...             ...       ...       ...       ...       ...\n",
      "4049970  599.992283 -0.242937  2.617652 -6.901566 -5.627539\n",
      "4049971  599.992383  0.699522 -1.692470 -6.913481 -5.598233\n",
      "4049972  599.992483  0.387452 -0.452409 -6.953093 -5.589860\n",
      "4049973  599.992583 -2.060774 -1.461295 -6.942466 -5.630760\n",
      "4049974  599.992683  0.987258  0.033948 -6.886751 -5.627539\n",
      "4049975  599.992783  1.961614  0.071764 -6.917668 -5.602098\n",
      "4049976  599.992883 -2.760550 -0.833207 -6.949229 -5.593080\n",
      "4049977  599.992983  0.584099 -1.966067 -6.927651 -5.613369\n",
      "4049978  599.993083  0.379889  3.036595 -6.883209 -5.598233\n",
      "4049979  599.993183 -0.552376  0.529511 -6.894158 -5.591148\n",
      "4049980  599.993283 -0.298511 -0.169276 -6.919922 -5.623353\n",
      "4049981  599.993383  1.814622  1.518994 -6.904464 -5.617556\n",
      "4049982  599.993483 -2.518193 -0.025901 -6.897701 -5.636557\n",
      "4049983  599.993583  1.268746  1.498277 -6.921533 -5.625285\n",
      "4049984  599.993683  3.654159 -1.237025 -6.930228 -5.624963\n",
      "4049985  599.993783 -0.093643  3.477242 -6.938923 -5.608539\n",
      "4049986  599.993883  0.158907 -2.944702 -6.956958 -5.616912\n",
      "4049987  599.993983  3.121107  0.407511 -6.956636 -5.618522\n",
      "4049988  599.994083  0.089522  1.249344 -6.938279 -5.628506\n",
      "4049989  599.994183 -0.169276  0.541350 -6.937313 -5.606928\n",
      "4049990  599.994283  2.076379 -0.872010 -6.941178 -5.595335\n",
      "4049991  599.994383 -2.216316  1.211856 -6.946330 -5.595335\n",
      "4049992  599.994483 -1.054189  2.001404 -6.950839 -5.591470\n",
      "4049993  599.994583  1.025404 -0.647740 -6.941178 -5.599843\n",
      "4049994  599.994683 -4.294276 -0.443859 -6.923465 -5.594368\n",
      "4049995  599.994783 -0.654975 -0.009788 -6.921855 -5.613047\n",
      "4049996  599.994883  1.190153 -1.670767 -6.933448 -5.657490\n",
      "4049997  599.994983  1.199361 -3.318268 -6.922177 -5.630116\n",
      "4049998  599.995083  0.540692  2.109263 -6.936991 -5.592436\n",
      "4049999  599.995183  1.493673 -0.144284 -6.992061 -5.611759\n",
      "\n",
      "[4050000 rows x 5 columns]\n",
      "Index(['time', 'x_acc', 'y_acc', 'x_dis', 'y_dis'], dtype='object')\n",
      "3\n",
      "3\n",
      "4050000\n",
      "4040000\n"
     ]
    }
   ],
   "source": [
    "df_arr = [] # 각각의 파일을 dataframe으로 불러와 배열에 저장\n",
    "for i in range(len(file_paths)):\n",
    "    df_arr.append(pd.read_table(file_paths[i], sep='\\t', header=None,\n",
    "                                names=['time', 'x_acc', 'time2', 'y_acc', 'time3', 'temperature',\n",
    "                                       'time4', 'x_dis', 'time5', 'y_dis']))\n",
    "\n",
    "    # 불필요한 열 삭제\n",
    "    df_arr[i].drop(['time2', 'time3', 'temperature', 'time4', 'time5'], axis=1, inplace=True)\n",
    "\n",
    "print(df_arr[0])\n",
    "print(df_arr[1].columns)\n",
    "print(len(df_arr))\n",
    "print(len(file_paths))\n",
    "len_df_0 = len(df_arr[0])\n",
    "print(len_df_0)\n",
    "len_df_1 = len(df_arr[1])\n",
    "print(len_df_1)"
   ]
  },
  {
   "cell_type": "code",
   "execution_count": 278,
   "metadata": {},
   "outputs": [
    {
     "data": {
      "text/html": [
       "<div>\n",
       "<style scoped>\n",
       "    .dataframe tbody tr th:only-of-type {\n",
       "        vertical-align: middle;\n",
       "    }\n",
       "\n",
       "    .dataframe tbody tr th {\n",
       "        vertical-align: top;\n",
       "    }\n",
       "\n",
       "    .dataframe thead th {\n",
       "        text-align: right;\n",
       "    }\n",
       "</style>\n",
       "<table border=\"1\" class=\"dataframe\">\n",
       "  <thead>\n",
       "    <tr style=\"text-align: right;\">\n",
       "      <th></th>\n",
       "      <th>time</th>\n",
       "      <th>x_acc</th>\n",
       "      <th>y_acc</th>\n",
       "      <th>x_dis</th>\n",
       "      <th>y_dis</th>\n",
       "    </tr>\n",
       "  </thead>\n",
       "  <tbody>\n",
       "    <tr>\n",
       "      <th>0</th>\n",
       "      <td>0.0000</td>\n",
       "      <td>0.002379</td>\n",
       "      <td>0.002050</td>\n",
       "      <td>-6.854546</td>\n",
       "      <td>-5.781479</td>\n",
       "    </tr>\n",
       "    <tr>\n",
       "      <th>1</th>\n",
       "      <td>0.0001</td>\n",
       "      <td>0.002050</td>\n",
       "      <td>0.001721</td>\n",
       "      <td>-6.863886</td>\n",
       "      <td>-5.796293</td>\n",
       "    </tr>\n",
       "    <tr>\n",
       "      <th>2</th>\n",
       "      <td>0.0002</td>\n",
       "      <td>0.002708</td>\n",
       "      <td>0.003365</td>\n",
       "      <td>-6.844563</td>\n",
       "      <td>-5.787920</td>\n",
       "    </tr>\n",
       "    <tr>\n",
       "      <th>3</th>\n",
       "      <td>0.0003</td>\n",
       "      <td>0.002379</td>\n",
       "      <td>0.002050</td>\n",
       "      <td>-6.863564</td>\n",
       "      <td>-5.786310</td>\n",
       "    </tr>\n",
       "    <tr>\n",
       "      <th>4</th>\n",
       "      <td>0.0004</td>\n",
       "      <td>0.003694</td>\n",
       "      <td>0.002379</td>\n",
       "      <td>-6.851326</td>\n",
       "      <td>-5.799192</td>\n",
       "    </tr>\n",
       "  </tbody>\n",
       "</table>\n",
       "</div>"
      ],
      "text/plain": [
       "     time     x_acc     y_acc     x_dis     y_dis\n",
       "0  0.0000  0.002379  0.002050 -6.854546 -5.781479\n",
       "1  0.0001  0.002050  0.001721 -6.863886 -5.796293\n",
       "2  0.0002  0.002708  0.003365 -6.844563 -5.787920\n",
       "3  0.0003  0.002379  0.002050 -6.863564 -5.786310\n",
       "4  0.0004  0.003694  0.002379 -6.851326 -5.799192"
      ]
     },
     "execution_count": 278,
     "metadata": {},
     "output_type": "execute_result"
    }
   ],
   "source": [
    "df_arr[0].head()"
   ]
  },
  {
   "cell_type": "code",
   "execution_count": 279,
   "metadata": {},
   "outputs": [
    {
     "name": "stdout",
     "output_type": "stream",
     "text": [
      "<class 'pandas.core.frame.DataFrame'>\n",
      "RangeIndex: 4050000 entries, 0 to 4049999\n",
      "Data columns (total 5 columns):\n",
      "time     float64\n",
      "x_acc    float64\n",
      "y_acc    float64\n",
      "x_dis    float64\n",
      "y_dis    float64\n",
      "dtypes: float64(5)\n",
      "memory usage: 154.5 MB\n"
     ]
    }
   ],
   "source": [
    "df_arr[0].info()"
   ]
  },
  {
   "cell_type": "markdown",
   "metadata": {},
   "source": [
    "## 1-2) data가 매우 많으므로 효율적인 datatype으로 변경"
   ]
  },
  {
   "cell_type": "code",
   "execution_count": 280,
   "metadata": {},
   "outputs": [],
   "source": [
    "for i in range(len(file_paths)):\n",
    "    df_arr[i]['x_acc'] = df_arr[i]['x_acc'].astype(np.float16)\n",
    "    df_arr[i]['y_acc'] = df_arr[i]['y_acc'].astype(np.float16)\n",
    "    df_arr[i]['x_dis'] = df_arr[i]['x_dis'].astype(np.float16)\n",
    "    df_arr[i]['y_dis'] = df_arr[i]['y_dis'].astype(np.float16)"
   ]
  },
  {
   "cell_type": "code",
   "execution_count": 281,
   "metadata": {},
   "outputs": [
    {
     "data": {
      "text/html": [
       "<div>\n",
       "<style scoped>\n",
       "    .dataframe tbody tr th:only-of-type {\n",
       "        vertical-align: middle;\n",
       "    }\n",
       "\n",
       "    .dataframe tbody tr th {\n",
       "        vertical-align: top;\n",
       "    }\n",
       "\n",
       "    .dataframe thead th {\n",
       "        text-align: right;\n",
       "    }\n",
       "</style>\n",
       "<table border=\"1\" class=\"dataframe\">\n",
       "  <thead>\n",
       "    <tr style=\"text-align: right;\">\n",
       "      <th></th>\n",
       "      <th>time</th>\n",
       "      <th>x_acc</th>\n",
       "      <th>y_acc</th>\n",
       "      <th>x_dis</th>\n",
       "      <th>y_dis</th>\n",
       "    </tr>\n",
       "  </thead>\n",
       "  <tbody>\n",
       "    <tr>\n",
       "      <th>0</th>\n",
       "      <td>0.0000</td>\n",
       "      <td>0.002378</td>\n",
       "      <td>0.002050</td>\n",
       "      <td>-6.855469</td>\n",
       "      <td>-5.781250</td>\n",
       "    </tr>\n",
       "    <tr>\n",
       "      <th>1</th>\n",
       "      <td>0.0001</td>\n",
       "      <td>0.002050</td>\n",
       "      <td>0.001721</td>\n",
       "      <td>-6.863281</td>\n",
       "      <td>-5.796875</td>\n",
       "    </tr>\n",
       "    <tr>\n",
       "      <th>2</th>\n",
       "      <td>0.0002</td>\n",
       "      <td>0.002708</td>\n",
       "      <td>0.003365</td>\n",
       "      <td>-6.843750</td>\n",
       "      <td>-5.789062</td>\n",
       "    </tr>\n",
       "    <tr>\n",
       "      <th>3</th>\n",
       "      <td>0.0003</td>\n",
       "      <td>0.002378</td>\n",
       "      <td>0.002050</td>\n",
       "      <td>-6.863281</td>\n",
       "      <td>-5.785156</td>\n",
       "    </tr>\n",
       "    <tr>\n",
       "      <th>4</th>\n",
       "      <td>0.0004</td>\n",
       "      <td>0.003695</td>\n",
       "      <td>0.002378</td>\n",
       "      <td>-6.851562</td>\n",
       "      <td>-5.800781</td>\n",
       "    </tr>\n",
       "  </tbody>\n",
       "</table>\n",
       "</div>"
      ],
      "text/plain": [
       "     time     x_acc     y_acc     x_dis     y_dis\n",
       "0  0.0000  0.002378  0.002050 -6.855469 -5.781250\n",
       "1  0.0001  0.002050  0.001721 -6.863281 -5.796875\n",
       "2  0.0002  0.002708  0.003365 -6.843750 -5.789062\n",
       "3  0.0003  0.002378  0.002050 -6.863281 -5.785156\n",
       "4  0.0004  0.003695  0.002378 -6.851562 -5.800781"
      ]
     },
     "execution_count": 281,
     "metadata": {},
     "output_type": "execute_result"
    }
   ],
   "source": [
    "df_arr[0].head()"
   ]
  },
  {
   "cell_type": "code",
   "execution_count": 282,
   "metadata": {},
   "outputs": [
    {
     "name": "stdout",
     "output_type": "stream",
     "text": [
      "<class 'pandas.core.frame.DataFrame'>\n",
      "RangeIndex: 4050000 entries, 0 to 4049999\n",
      "Data columns (total 5 columns):\n",
      "time     float64\n",
      "x_acc    float16\n",
      "y_acc    float16\n",
      "x_dis    float16\n",
      "y_dis    float16\n",
      "dtypes: float16(4), float64(1)\n",
      "memory usage: 61.8 MB\n"
     ]
    }
   ],
   "source": [
    "df_arr[0].info()"
   ]
  },
  {
   "cell_type": "markdown",
   "metadata": {},
   "source": [
    "## 2) Merge\n",
    "* 대부분 10분(600초) 간격을 두고 데이터를 수집했지만, 1초 간격으로 수집한 경우도 있음 (폴더에 명시되어있음)"
   ]
  },
  {
   "cell_type": "markdown",
   "metadata": {},
   "source": [
    "## 2-1) 여러 txt파일에 나누어진 data 값들을 각 txt파일 사이에 1초 간격을 주어서 병합"
   ]
  },
  {
   "cell_type": "code",
   "execution_count": 283,
   "metadata": {
    "scrolled": true
   },
   "outputs": [
    {
     "name": "stdout",
     "output_type": "stream",
     "text": [
      "4050000\n",
      "599.995183\n",
      "<class 'numpy.float64'>\n",
      "time     599.995183\n",
      "x_acc      1.494141\n",
      "y_acc     -0.144287\n",
      "x_dis     -6.992188\n",
      "y_dis     -5.613281\n",
      "Name: 4049999, dtype: float64\n",
      "\n",
      "time     600.995183\n",
      "x_acc      2.691406\n",
      "y_acc      0.037903\n",
      "x_dis     -6.925781\n",
      "y_dis     -5.621094\n",
      "Name: 0, dtype: float64\n",
      "\n",
      "\n",
      "time     599.995183\n",
      "x_acc      1.494141\n",
      "y_acc     -0.144287\n",
      "x_dis     -6.992188\n",
      "y_dis     -5.613281\n",
      "Name: 4049999, dtype: float64\n",
      "\n",
      "time     600.995183\n",
      "x_acc      2.691406\n",
      "y_acc      0.037903\n",
      "x_dis     -6.925781\n",
      "y_dis     -5.621094\n",
      "Name: 0, dtype: float64\n",
      "\n",
      "\n",
      "time     10.266231\n",
      "x_acc     0.143799\n",
      "y_acc    -0.101868\n",
      "x_dis    -6.835938\n",
      "y_dis    -5.792969\n",
      "Name: 69999, dtype: float64\n",
      "time     10.738893\n",
      "x_acc     0.029022\n",
      "y_acc    -0.812500\n",
      "x_dis    -6.843750\n",
      "y_dis    -5.777344\n",
      "Name: 70000, dtype: float64\n"
     ]
    }
   ],
   "source": [
    "last_index = df_arr[0].shape[0] # 마지막 행 index (확인용)\n",
    "print(last_index)\n",
    "\n",
    "for i in range(len(file_paths) - 1): # 마지막 파일은 제외\n",
    "    last_time = df_arr[i].iloc[-1,0]\n",
    "    \n",
    "    if (i == 0):\n",
    "        print(last_time)\n",
    "        print(type(last_time))\n",
    "    \n",
    "    # 연결될 파일(다음 파일)의 time열에만 last_time을 더함\n",
    "    df_arr[i+1] = df_arr[i+1].add([last_time + 1, 0, 0, 0, 0], axis=1) # 1초 간격 부여\n",
    "    \n",
    "    if (i == 0):\n",
    "        print(df_arr[i].iloc[last_index - 1,:])\n",
    "        print()\n",
    "        print(df_arr[i+1].iloc[0,:])\n",
    "    \n",
    "# dataframe을 연결함\n",
    "df = pd.concat(df_arr)\n",
    "df_arr[i+1] = pd.concat([df_arr[i], df_arr[i+1]], axis=0)\n",
    "\n",
    "print()\n",
    "print()\n",
    "print(df.iloc[last_index - 1,:])\n",
    "print()\n",
    "print(df.iloc[last_index, :])\n",
    "\n",
    "print()\n",
    "print()\n",
    "print(df.iloc[69999, :])\n",
    "print(df.iloc[70000, :])"
   ]
  },
  {
   "cell_type": "markdown",
   "metadata": {},
   "source": [
    "## 2-2) 여러 txt파일에 나누어진 data 값들을 각 txt파일 사이에 600초 (10분) 간격을 주어서 병합"
   ]
  },
  {
   "cell_type": "code",
   "execution_count": 259,
   "metadata": {
    "scrolled": true
   },
   "outputs": [
    {
     "name": "stdout",
     "output_type": "stream",
     "text": [
      "70000\n",
      "10.284616\n",
      "<class 'numpy.float64'>\n",
      "time     10.284616\n",
      "x_acc     2.150391\n",
      "y_acc    -1.666016\n",
      "x_dis    -6.925781\n",
      "y_dis    -5.542969\n",
      "Name: 69999, dtype: float64\n",
      "\n",
      "time     610.284616\n",
      "x_acc     -1.889648\n",
      "y_acc      0.377930\n",
      "x_dis     -6.949219\n",
      "y_dis     -5.562500\n",
      "Name: 0, dtype: float64\n",
      "\n",
      "\n",
      "time     10.284616\n",
      "x_acc     2.150391\n",
      "y_acc    -1.666016\n",
      "x_dis    -6.925781\n",
      "y_dis    -5.542969\n",
      "Name: 69999, dtype: float64\n",
      "\n",
      "time     610.284616\n",
      "x_acc     -1.889648\n",
      "y_acc      0.377930\n",
      "x_dis     -6.949219\n",
      "y_dis     -5.562500\n",
      "Name: 70000, dtype: float64\n",
      "\n",
      "\n",
      "time     10.284616\n",
      "x_acc     2.150391\n",
      "y_acc    -1.666016\n",
      "x_dis    -6.925781\n",
      "y_dis    -5.542969\n",
      "Name: 69999, dtype: float64\n",
      "time     610.284616\n",
      "x_acc     -1.889648\n",
      "y_acc      0.377930\n",
      "x_dis     -6.949219\n",
      "y_dis     -5.562500\n",
      "Name: 70000, dtype: float64\n"
     ]
    }
   ],
   "source": [
    "last_index = df_arr[0].shape[0] # 마지막 행 index (확인용)\n",
    "print(last_index)\n",
    "\n",
    "for i in range(len(file_paths) - 1): # 마지막 파일은 제외\n",
    "    last_time = df_arr[i].iloc[-1,0]\n",
    "    \n",
    "    if (i == 0):\n",
    "        print(last_time)\n",
    "        print(type(last_time))\n",
    "    \n",
    "    # 연결될 파일(다음 파일)의 time열에만 last_time을 더함\n",
    "    df_arr[i+1] = df_arr[i+1].add([last_time + 600, 0, 0, 0, 0], axis=1) # 600초 간격 부여\n",
    "    \n",
    "    if (i == 0):\n",
    "        print(df_arr[i].iloc[last_index - 1,:])\n",
    "        print()\n",
    "        print(df_arr[i+1].iloc[0,:])\n",
    "    \n",
    "# dataframe을 연결함\n",
    "df = pd.concat(df_arr, ignore_index=True)\n",
    "df_arr[i+1] = pd.concat([df_arr[i], df_arr[i+1]], axis=0)\n",
    "\n",
    "print()\n",
    "print()\n",
    "print(df.iloc[last_index - 1,:])\n",
    "print()\n",
    "print(df.iloc[last_index, :])\n",
    "\n",
    "print()\n",
    "print()\n",
    "print(df.iloc[69999, :])\n",
    "print(df.iloc[70000, :])"
   ]
  },
  {
   "cell_type": "markdown",
   "metadata": {},
   "source": [
    "## 3) 병합 결과 확인"
   ]
  },
  {
   "cell_type": "code",
   "execution_count": 284,
   "metadata": {
    "scrolled": false
   },
   "outputs": [
    {
     "name": "stdout",
     "output_type": "stream",
     "text": [
      "time     599.995183\n",
      "x_acc      1.494141\n",
      "y_acc     -0.144287\n",
      "x_dis     -6.992188\n",
      "y_dis     -5.613281\n",
      "Name: 4049999, dtype: float64\n",
      "\n",
      "time     600.995183\n",
      "x_acc      2.691406\n",
      "y_acc      0.037903\n",
      "x_dis     -6.925781\n",
      "y_dis     -5.621094\n",
      "Name: 0, dtype: float64\n",
      "4050000\n",
      "4040000\n",
      "8900000\n",
      "3\n"
     ]
    }
   ],
   "source": [
    "print(df.iloc[len_df_0 - 1,:])\n",
    "print()\n",
    "print(df.iloc[len_df_0,:])\n",
    "\n",
    "print(len(df_arr[0]))\n",
    "print(len(df_arr[1]))\n",
    "\n",
    "print(len(df))\n",
    "print(len(df_arr))"
   ]
  },
  {
   "cell_type": "code",
   "execution_count": 285,
   "metadata": {
    "scrolled": true
   },
   "outputs": [
    {
     "data": {
      "text/html": [
       "<div>\n",
       "<style scoped>\n",
       "    .dataframe tbody tr th:only-of-type {\n",
       "        vertical-align: middle;\n",
       "    }\n",
       "\n",
       "    .dataframe tbody tr th {\n",
       "        vertical-align: top;\n",
       "    }\n",
       "\n",
       "    .dataframe thead th {\n",
       "        text-align: right;\n",
       "    }\n",
       "</style>\n",
       "<table border=\"1\" class=\"dataframe\">\n",
       "  <thead>\n",
       "    <tr style=\"text-align: right;\">\n",
       "      <th></th>\n",
       "      <th>time</th>\n",
       "      <th>x_acc</th>\n",
       "      <th>y_acc</th>\n",
       "      <th>x_dis</th>\n",
       "      <th>y_dis</th>\n",
       "    </tr>\n",
       "  </thead>\n",
       "  <tbody>\n",
       "    <tr>\n",
       "      <th>0</th>\n",
       "      <td>0.0000</td>\n",
       "      <td>0.002378</td>\n",
       "      <td>0.002050</td>\n",
       "      <td>-6.855469</td>\n",
       "      <td>-5.781250</td>\n",
       "    </tr>\n",
       "    <tr>\n",
       "      <th>1</th>\n",
       "      <td>0.0001</td>\n",
       "      <td>0.002050</td>\n",
       "      <td>0.001721</td>\n",
       "      <td>-6.863281</td>\n",
       "      <td>-5.796875</td>\n",
       "    </tr>\n",
       "    <tr>\n",
       "      <th>2</th>\n",
       "      <td>0.0002</td>\n",
       "      <td>0.002708</td>\n",
       "      <td>0.003365</td>\n",
       "      <td>-6.843750</td>\n",
       "      <td>-5.789062</td>\n",
       "    </tr>\n",
       "    <tr>\n",
       "      <th>3</th>\n",
       "      <td>0.0003</td>\n",
       "      <td>0.002378</td>\n",
       "      <td>0.002050</td>\n",
       "      <td>-6.863281</td>\n",
       "      <td>-5.785156</td>\n",
       "    </tr>\n",
       "    <tr>\n",
       "      <th>4</th>\n",
       "      <td>0.0004</td>\n",
       "      <td>0.003695</td>\n",
       "      <td>0.002378</td>\n",
       "      <td>-6.851562</td>\n",
       "      <td>-5.800781</td>\n",
       "    </tr>\n",
       "  </tbody>\n",
       "</table>\n",
       "</div>"
      ],
      "text/plain": [
       "     time     x_acc     y_acc     x_dis     y_dis\n",
       "0  0.0000  0.002378  0.002050 -6.855469 -5.781250\n",
       "1  0.0001  0.002050  0.001721 -6.863281 -5.796875\n",
       "2  0.0002  0.002708  0.003365 -6.843750 -5.789062\n",
       "3  0.0003  0.002378  0.002050 -6.863281 -5.785156\n",
       "4  0.0004  0.003695  0.002378 -6.851562 -5.800781"
      ]
     },
     "execution_count": 285,
     "metadata": {},
     "output_type": "execute_result"
    }
   ],
   "source": [
    "df.head()"
   ]
  },
  {
   "cell_type": "code",
   "execution_count": 286,
   "metadata": {
    "scrolled": true
   },
   "outputs": [
    {
     "name": "stdout",
     "output_type": "stream",
     "text": [
      "<class 'pandas.core.frame.DataFrame'>\n",
      "Int64Index: 8900000 entries, 0 to 809999\n",
      "Data columns (total 5 columns):\n",
      "time     float64\n",
      "x_acc    float16\n",
      "y_acc    float16\n",
      "x_dis    float16\n",
      "y_dis    float16\n",
      "dtypes: float16(4), float64(1)\n",
      "memory usage: 523.7 MB\n"
     ]
    }
   ],
   "source": [
    "df.info()"
   ]
  },
  {
   "cell_type": "code",
   "execution_count": 287,
   "metadata": {
    "scrolled": true
   },
   "outputs": [
    {
     "data": {
      "text/html": [
       "<div>\n",
       "<style scoped>\n",
       "    .dataframe tbody tr th:only-of-type {\n",
       "        vertical-align: middle;\n",
       "    }\n",
       "\n",
       "    .dataframe tbody tr th {\n",
       "        vertical-align: top;\n",
       "    }\n",
       "\n",
       "    .dataframe thead th {\n",
       "        text-align: right;\n",
       "    }\n",
       "</style>\n",
       "<table border=\"1\" class=\"dataframe\">\n",
       "  <thead>\n",
       "    <tr style=\"text-align: right;\">\n",
       "      <th></th>\n",
       "      <th>time</th>\n",
       "      <th>x_acc</th>\n",
       "      <th>y_acc</th>\n",
       "      <th>x_dis</th>\n",
       "      <th>y_dis</th>\n",
       "    </tr>\n",
       "  </thead>\n",
       "  <tbody>\n",
       "    <tr>\n",
       "      <th>count</th>\n",
       "      <td>8.900000e+06</td>\n",
       "      <td>8.900000e+06</td>\n",
       "      <td>8.900000e+06</td>\n",
       "      <td>8.900000e+06</td>\n",
       "      <td>8.900000e+06</td>\n",
       "    </tr>\n",
       "    <tr>\n",
       "      <th>mean</th>\n",
       "      <td>6.597518e+02</td>\n",
       "      <td>-0.000000e+00</td>\n",
       "      <td>0.000000e+00</td>\n",
       "      <td>NaN</td>\n",
       "      <td>NaN</td>\n",
       "    </tr>\n",
       "    <tr>\n",
       "      <th>std</th>\n",
       "      <td>3.815968e+02</td>\n",
       "      <td>0.000000e+00</td>\n",
       "      <td>0.000000e+00</td>\n",
       "      <td>0.000000e+00</td>\n",
       "      <td>0.000000e+00</td>\n",
       "    </tr>\n",
       "    <tr>\n",
       "      <th>min</th>\n",
       "      <td>0.000000e+00</td>\n",
       "      <td>-1.077344e+01</td>\n",
       "      <td>-1.077344e+01</td>\n",
       "      <td>-7.117188e+00</td>\n",
       "      <td>-5.843750e+00</td>\n",
       "    </tr>\n",
       "    <tr>\n",
       "      <th>25%</th>\n",
       "      <td>3.283336e+02</td>\n",
       "      <td>-1.239258e+00</td>\n",
       "      <td>-1.232422e+00</td>\n",
       "      <td>-6.949219e+00</td>\n",
       "      <td>-5.671875e+00</td>\n",
       "    </tr>\n",
       "    <tr>\n",
       "      <th>50%</th>\n",
       "      <td>6.597510e+02</td>\n",
       "      <td>7.706881e-05</td>\n",
       "      <td>5.668640e-03</td>\n",
       "      <td>-6.929688e+00</td>\n",
       "      <td>-5.601562e+00</td>\n",
       "    </tr>\n",
       "    <tr>\n",
       "      <th>75%</th>\n",
       "      <td>9.908004e+02</td>\n",
       "      <td>1.237305e+00</td>\n",
       "      <td>1.239258e+00</td>\n",
       "      <td>-6.906250e+00</td>\n",
       "      <td>-5.566406e+00</td>\n",
       "    </tr>\n",
       "    <tr>\n",
       "      <th>max</th>\n",
       "      <td>1.320759e+03</td>\n",
       "      <td>1.078125e+01</td>\n",
       "      <td>1.078125e+01</td>\n",
       "      <td>-6.792969e+00</td>\n",
       "      <td>-5.472656e+00</td>\n",
       "    </tr>\n",
       "  </tbody>\n",
       "</table>\n",
       "</div>"
      ],
      "text/plain": [
       "               time         x_acc         y_acc         x_dis         y_dis\n",
       "count  8.900000e+06  8.900000e+06  8.900000e+06  8.900000e+06  8.900000e+06\n",
       "mean   6.597518e+02 -0.000000e+00  0.000000e+00           NaN           NaN\n",
       "std    3.815968e+02  0.000000e+00  0.000000e+00  0.000000e+00  0.000000e+00\n",
       "min    0.000000e+00 -1.077344e+01 -1.077344e+01 -7.117188e+00 -5.843750e+00\n",
       "25%    3.283336e+02 -1.239258e+00 -1.232422e+00 -6.949219e+00 -5.671875e+00\n",
       "50%    6.597510e+02  7.706881e-05  5.668640e-03 -6.929688e+00 -5.601562e+00\n",
       "75%    9.908004e+02  1.237305e+00  1.239258e+00 -6.906250e+00 -5.566406e+00\n",
       "max    1.320759e+03  1.078125e+01  1.078125e+01 -6.792969e+00 -5.472656e+00"
      ]
     },
     "execution_count": 287,
     "metadata": {},
     "output_type": "execute_result"
    }
   ],
   "source": [
    "df.describe()"
   ]
  },
  {
   "cell_type": "code",
   "execution_count": 288,
   "metadata": {},
   "outputs": [
    {
     "name": "stdout",
     "output_type": "stream",
     "text": [
      "time     0\n",
      "x_acc    0\n",
      "y_acc    0\n",
      "x_dis    0\n",
      "y_dis    0\n",
      "dtype: int64\n"
     ]
    }
   ],
   "source": [
    "print(df.isnull().sum()) # column 별 결측치 개수"
   ]
  },
  {
   "cell_type": "markdown",
   "metadata": {},
   "source": [
    "# 3. Change to txt file (Save as a new file)"
   ]
  },
  {
   "cell_type": "markdown",
   "metadata": {},
   "source": [
    "## 1) Save as text file"
   ]
  },
  {
   "cell_type": "code",
   "execution_count": 24,
   "metadata": {},
   "outputs": [],
   "source": [
    "save_as = '/Users/jjuke/Desktop/Study/BigDataAnalysis/TermProject/SPINDLE DATA/MergingProcess/SPINDLE1_TEST_55.txt' # 병합 결과를 저장할 text파일명\n",
    "df.to_csv(save_as, sep = '\\t', index = False)"
   ]
  },
  {
   "cell_type": "markdown",
   "metadata": {},
   "source": [
    "## 2) Save as pickle file\n",
    "* 텍스트 상태의 데이터가 아닌 파이썬 객체 자체를 파일로 저장함\n",
    "* raw text파일은 불러오고 사용할 때 항상 parsing 작업 필요 → 비효율적!"
   ]
  },
  {
   "cell_type": "code",
   "execution_count": 9,
   "metadata": {},
   "outputs": [],
   "source": [
    "import pickle\n",
    "import os\n",
    "import natsort\n",
    "import pandas as pd"
   ]
  },
  {
   "cell_type": "code",
   "execution_count": 289,
   "metadata": {},
   "outputs": [],
   "source": [
    "# Save\n",
    "with open(\"/Users/jjuke/Desktop/Study/BigDataAnalysis/TermProject/SPINDLE DATA/MergingProcess/SPINDLE1_TEST_69.pickle\", \"wb\") as fw:\n",
    "    pickle.dump(df, fw)"
   ]
  },
  {
   "cell_type": "code",
   "execution_count": 46,
   "metadata": {},
   "outputs": [],
   "source": [
    "# Load\n",
    "with open(\"/Users/jjuke/Desktop/Study/BigDataAnalysis/TermProject/SPINDLE DATA/MergingProcess/SPINDLE1_TEST_57.pickle\", \"rb\") as fr:\n",
    "    df_56 = pickle.load(fr)"
   ]
  },
  {
   "cell_type": "markdown",
   "metadata": {},
   "source": [
    "# 4. Merge all pickle files"
   ]
  },
  {
   "cell_type": "markdown",
   "metadata": {},
   "source": [
    "## 1) Load all pickle files"
   ]
  },
  {
   "cell_type": "code",
   "execution_count": 6,
   "metadata": {},
   "outputs": [
    {
     "name": "stdout",
     "output_type": "stream",
     "text": [
      "/Users/jjuke/Desktop/Study/BigDataAnalysis/TermProject/SPINDLE DATA/MergingProcess/SPINDLE1_TEST_55.pickle\n",
      "SPINDLE1_TEST_55.pickle\n",
      "/Users/jjuke/Desktop/Study/BigDataAnalysis/TermProject/SPINDLE DATA/MergingProcess/SPINDLE1_TEST_56.pickle\n",
      "SPINDLE1_TEST_56.pickle\n",
      "/Users/jjuke/Desktop/Study/BigDataAnalysis/TermProject/SPINDLE DATA/MergingProcess/SPINDLE1_TEST_57.pickle\n",
      "SPINDLE1_TEST_57.pickle\n",
      "/Users/jjuke/Desktop/Study/BigDataAnalysis/TermProject/SPINDLE DATA/MergingProcess/SPINDLE1_TEST_58.pickle\n",
      "SPINDLE1_TEST_58.pickle\n",
      "/Users/jjuke/Desktop/Study/BigDataAnalysis/TermProject/SPINDLE DATA/MergingProcess/SPINDLE1_TEST_60.pickle\n",
      "SPINDLE1_TEST_60.pickle\n",
      "/Users/jjuke/Desktop/Study/BigDataAnalysis/TermProject/SPINDLE DATA/MergingProcess/SPINDLE1_TEST_61.pickle\n",
      "SPINDLE1_TEST_61.pickle\n",
      "/Users/jjuke/Desktop/Study/BigDataAnalysis/TermProject/SPINDLE DATA/MergingProcess/SPINDLE1_TEST_62.pickle\n",
      "SPINDLE1_TEST_62.pickle\n",
      "/Users/jjuke/Desktop/Study/BigDataAnalysis/TermProject/SPINDLE DATA/MergingProcess/SPINDLE1_TEST_63.pickle\n",
      "SPINDLE1_TEST_63.pickle\n",
      "/Users/jjuke/Desktop/Study/BigDataAnalysis/TermProject/SPINDLE DATA/MergingProcess/SPINDLE1_TEST_64.pickle\n",
      "SPINDLE1_TEST_64.pickle\n",
      "/Users/jjuke/Desktop/Study/BigDataAnalysis/TermProject/SPINDLE DATA/MergingProcess/SPINDLE1_TEST_65.pickle\n",
      "SPINDLE1_TEST_65.pickle\n",
      "/Users/jjuke/Desktop/Study/BigDataAnalysis/TermProject/SPINDLE DATA/MergingProcess/SPINDLE1_TEST_66.pickle\n",
      "SPINDLE1_TEST_66.pickle\n",
      "/Users/jjuke/Desktop/Study/BigDataAnalysis/TermProject/SPINDLE DATA/MergingProcess/SPINDLE1_TEST_67.pickle\n",
      "SPINDLE1_TEST_67.pickle\n",
      "/Users/jjuke/Desktop/Study/BigDataAnalysis/TermProject/SPINDLE DATA/MergingProcess/SPINDLE1_TEST_68.pickle\n",
      "SPINDLE1_TEST_68.pickle\n",
      "/Users/jjuke/Desktop/Study/BigDataAnalysis/TermProject/SPINDLE DATA/MergingProcess/SPINDLE1_TEST_69.pickle\n",
      "SPINDLE1_TEST_69.pickle\n",
      "14\n"
     ]
    }
   ],
   "source": [
    "# Load all pickle files\n",
    "merged_pickle_path = '/Users/jjuke/Desktop/Study/BigDataAnalysis/TermProject/SPINDLE DATA/MergingProcess/'\n",
    "\n",
    "merged_paths = []\n",
    "merged_names = []\n",
    "\n",
    "for dirname, _, filenames in os.walk(merged_pickle_path):\n",
    "    filenames = natsort.natsorted(filenames)\n",
    "    for filename in filenames:\n",
    "        path = os.path.join(dirname, filename)\n",
    "        if(path.endswith('pickle')):\n",
    "            merged_paths.append(path)\n",
    "            merged_names.append(filename)\n",
    "\n",
    "for i in range(len(merged_paths)):\n",
    "    print(merged_paths[i])\n",
    "    print(merged_names[i])\n",
    "\n",
    "print(len(merged_paths))"
   ]
  },
  {
   "cell_type": "code",
   "execution_count": 7,
   "metadata": {},
   "outputs": [
    {
     "name": "stdout",
     "output_type": "stream",
     "text": [
      "14\n"
     ]
    }
   ],
   "source": [
    "final_df = [] # 모든 data를 담을 dataframe 리스트\n",
    "\n",
    "for path in merged_paths:\n",
    "    with open(path, \"rb\") as fr:\n",
    "        final_df.append(pickle.load(fr))\n",
    "\n",
    "print(len(final_df))"
   ]
  },
  {
   "cell_type": "markdown",
   "metadata": {},
   "source": [
    "## 2) Concatenate"
   ]
  },
  {
   "cell_type": "code",
   "execution_count": 10,
   "metadata": {},
   "outputs": [
    {
     "name": "stdout",
     "output_type": "stream",
     "text": [
      "661370000\n"
     ]
    }
   ],
   "source": [
    "# 모든 dataframe 연결\n",
    "finalDF = pd.concat(final_df, ignore_index=True)\n",
    "\n",
    "print(len(finalDF))"
   ]
  },
  {
   "cell_type": "markdown",
   "metadata": {},
   "source": [
    "## 3) Result"
   ]
  },
  {
   "cell_type": "code",
   "execution_count": 11,
   "metadata": {},
   "outputs": [
    {
     "name": "stdout",
     "output_type": "stream",
     "text": [
      "<class 'pandas.core.frame.DataFrame'>\n",
      "RangeIndex: 661370000 entries, 0 to 661369999\n",
      "Data columns (total 5 columns):\n",
      "time     float64\n",
      "x_acc    float16\n",
      "y_acc    float16\n",
      "x_dis    float16\n",
      "y_dis    float16\n",
      "dtypes: float16(4), float64(1)\n",
      "memory usage: 9.9 GB\n"
     ]
    }
   ],
   "source": [
    "finalDF.info()"
   ]
  },
  {
   "cell_type": "markdown",
   "metadata": {},
   "source": [
    "## 4) Save as pickle file"
   ]
  },
  {
   "cell_type": "code",
   "execution_count": 14,
   "metadata": {},
   "outputs": [],
   "source": [
    "# Save\n",
    "with open(\"/Users/jjuke/Desktop/Study/BigDataAnalysis/TermProject/SPINDLE DATA/MergedData.pickle\", \"wb\") as fw:\n",
    "    pickle.dump(finalDF, fw, protocol=pickle.HIGHEST_PROTOCOL)"
   ]
  },
  {
   "cell_type": "code",
   "execution_count": null,
   "metadata": {},
   "outputs": [],
   "source": []
  }
 ],
 "metadata": {
  "kernelspec": {
   "display_name": "Python 3 (ipykernel)",
   "language": "python",
   "name": "python3"
  },
  "language_info": {
   "codemirror_mode": {
    "name": "ipython",
    "version": 3
   },
   "file_extension": ".py",
   "mimetype": "text/x-python",
   "name": "python",
   "nbconvert_exporter": "python",
   "pygments_lexer": "ipython3",
   "version": "3.7.10"
  }
 },
 "nbformat": 4,
 "nbformat_minor": 4
}
